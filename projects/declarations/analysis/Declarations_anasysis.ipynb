{
  "nbformat": 4,
  "nbformat_minor": 0,
  "metadata": {
    "colab": {
      "name": "Декларации_регрессия_clean.ipynb",
      "provenance": []
    },
    "kernelspec": {
      "name": "python3",
      "display_name": "Python 3"
    },
    "language_info": {
      "name": "python"
    }
  },
  "cells": [
    {
      "cell_type": "code",
      "metadata": {
        "id": "ZduEQ0_p09qo"
      },
      "source": [
        "import pandas as pd\n",
        "import numpy as np\n",
        "import statsmodels.api as sm\n",
        "from statsmodels.formula.api import ols\n",
        "from statsmodels.iolib.summary2 import summary_col"
      ],
      "execution_count": 23,
      "outputs": []
    },
    {
      "cell_type": "code",
      "metadata": {
        "colab": {
          "base_uri": "https://localhost:8080/"
        },
        "id": "j0NM1BrBaHP-",
        "outputId": "69dc3326-4acb-4068-b9a8-cbcc3b601c64"
      },
      "source": [
        "# Забираем датасет, предобработанный для проведения регрессионного анализа\n",
        "!wget https://nc.cloud.cpur.ru/s/zAaYy5EDMySndAC/download/declarations_for_regression.xlsx"
      ],
      "execution_count": 18,
      "outputs": [
        {
          "output_type": "stream",
          "name": "stdout",
          "text": [
            "--2021-11-30 10:59:13--  https://nc.cloud.cpur.ru/s/zAaYy5EDMySndAC/download/declarations_for_regression.xlsx\n",
            "Resolving nc.cloud.cpur.ru (nc.cloud.cpur.ru)... 84.201.157.40\n",
            "Connecting to nc.cloud.cpur.ru (nc.cloud.cpur.ru)|84.201.157.40|:443... connected.\n",
            "HTTP request sent, awaiting response... 200 OK\n",
            "Length: 774872 (757K) [application/vnd.openxmlformats-officedocument.spreadsheetml.sheet]\n",
            "Saving to: ‘declarations_for_regression.xlsx’\n",
            "\n",
            "declarations_for_re 100%[===================>] 756.71K  1.05MB/s    in 0.7s    \n",
            "\n",
            "2021-11-30 10:59:15 (1.05 MB/s) - ‘declarations_for_regression.xlsx’ saved [774872/774872]\n",
            "\n"
          ]
        }
      ]
    },
    {
      "cell_type": "code",
      "metadata": {
        "id": "sf4Gs5w-1bcO"
      },
      "source": [
        "servants = pd.read_excel('declarations_for_regression.xlsx')\n",
        "len(servants)"
      ],
      "execution_count": 19,
      "outputs": []
    },
    {
      "cell_type": "code",
      "metadata": {
        "colab": {
          "base_uri": "https://localhost:8080/"
        },
        "id": "tUjJyFoF1X8q",
        "outputId": "b0503f01-b21f-4f77-cf0e-66abd602d99d"
      },
      "source": [
        "servants.info()"
      ],
      "execution_count": 21,
      "outputs": [
        {
          "output_type": "stream",
          "name": "stdout",
          "text": [
            "<class 'pandas.core.frame.DataFrame'>\n",
            "RangeIndex: 17223 entries, 0 to 17222\n",
            "Data columns (total 9 columns):\n",
            " #   Column                            Non-Null Count  Dtype  \n",
            "---  ------                            --------------  -----  \n",
            " 0   Unnamed: 0                        17223 non-null  int64  \n",
            " 1   name                              17223 non-null  object \n",
            " 2   position_standard                 17223 non-null  object \n",
            " 3   gender                            17223 non-null  object \n",
            " 4   married                           17223 non-null  object \n",
            " 5   year                              17223 non-null  int64  \n",
            " 6   state_agency_short                17223 non-null  object \n",
            " 7   children                          17223 non-null  int64  \n",
            " 8   income_diff_month_const_чиновник  17223 non-null  float64\n",
            "dtypes: float64(1), int64(3), object(5)\n",
            "memory usage: 1.2+ MB\n"
          ]
        }
      ]
    },
    {
      "cell_type": "code",
      "metadata": {
        "id": "8o3rk8Q_OFpo"
      },
      "source": [
        "# создаем переменную: наличине несоврешеннолетних детей\n",
        "servants['if_children'] = np.where(servants['children'] == 0, 'no', 'yes')"
      ],
      "execution_count": 25,
      "outputs": []
    },
    {
      "cell_type": "code",
      "metadata": {
        "id": "fyVbTD0-VIsj"
      },
      "source": [
        "#согарифмируем месячный доход чиноников\n",
        "servants['log_income_diff'] = np.log(servants['income_diff_month_const_чиновник'])"
      ],
      "execution_count": 26,
      "outputs": []
    },
    {
      "cell_type": "code",
      "metadata": {
        "id": "pDRBqQ7PKE-7"
      },
      "source": [
        "# создаем категориальные переменнуые года и количества детей\n",
        "servants['year_cat'] = servants['year'].astype(str)"
      ],
      "execution_count": 28,
      "outputs": []
    },
    {
      "cell_type": "markdown",
      "metadata": {
        "id": "RmfK8hiBZgWV"
      },
      "source": [
        "## 1. Регрессия на данных всех министерств\n",
        "Последовательно добавляем объясняющие переменные"
      ]
    },
    {
      "cell_type": "code",
      "metadata": {
        "colab": {
          "base_uri": "https://localhost:8080/"
        },
        "id": "B2X-yb7oKKhe",
        "outputId": "0454f3eb-ce52-4e28-ab93-5bed60317236"
      },
      "source": [
        "# только пол\n",
        "mdl_g = ols('log_income_diff ~ gender', data=servants).fit()\n",
        "pprint(mdl_g.summary())"
      ],
      "execution_count": 37,
      "outputs": [
        {
          "output_type": "stream",
          "name": "stdout",
          "text": [
            "<class 'statsmodels.iolib.summary.Summary'>\n",
            "\"\"\"\n",
            "                            OLS Regression Results                            \n",
            "==============================================================================\n",
            "Dep. Variable:        log_income_diff   R-squared:                       0.015\n",
            "Model:                            OLS   Adj. R-squared:                  0.015\n",
            "Method:                 Least Squares   F-statistic:                     266.7\n",
            "Date:                Tue, 30 Nov 2021   Prob (F-statistic):           1.65e-59\n",
            "Time:                        11:13:43   Log-Likelihood:                -14913.\n",
            "No. Observations:               17223   AIC:                         2.983e+04\n",
            "Df Residuals:                   17221   BIC:                         2.985e+04\n",
            "Df Model:                           1                                         \n",
            "Covariance Type:            nonrobust                                         \n",
            "===============================================================================\n",
            "                  coef    std err          t      P>|t|      [0.025      0.975]\n",
            "-------------------------------------------------------------------------------\n",
            "Intercept      12.1331      0.006   1898.593      0.000      12.121      12.146\n",
            "gender[T.m]     0.1434      0.009     16.331      0.000       0.126       0.161\n",
            "==============================================================================\n",
            "Omnibus:                     2898.956   Durbin-Watson:                   1.147\n",
            "Prob(Omnibus):                  0.000   Jarque-Bera (JB):             5227.483\n",
            "Skew:                           1.074   Prob(JB):                         0.00\n",
            "Kurtosis:                       4.635   Cond. No.                         2.69\n",
            "==============================================================================\n",
            "\n",
            "Warnings:\n",
            "[1] Standard Errors assume that the covariance matrix of the errors is correctly specified.\n",
            "\"\"\"\n"
          ]
        }
      ]
    },
    {
      "cell_type": "code",
      "metadata": {
        "colab": {
          "base_uri": "https://localhost:8080/"
        },
        "id": "De8-l-3LKgFH",
        "outputId": "77096c8e-46da-40e4-e178-69dd4ffce7c2"
      },
      "source": [
        "# пол и семейный статус\n",
        "mdl_g_m = ols('log_income_diff ~ gender + married', data=servants).fit()\n",
        "pprint(mdl_g_m.summary())"
      ],
      "execution_count": 38,
      "outputs": [
        {
          "output_type": "stream",
          "name": "stdout",
          "text": [
            "<class 'statsmodels.iolib.summary.Summary'>\n",
            "\"\"\"\n",
            "                            OLS Regression Results                            \n",
            "==============================================================================\n",
            "Dep. Variable:        log_income_diff   R-squared:                       0.018\n",
            "Model:                            OLS   Adj. R-squared:                  0.018\n",
            "Method:                 Least Squares   F-statistic:                     162.1\n",
            "Date:                Tue, 30 Nov 2021   Prob (F-statistic):           1.84e-70\n",
            "Time:                        11:13:43   Log-Likelihood:                -14885.\n",
            "No. Observations:               17223   AIC:                         2.978e+04\n",
            "Df Residuals:                   17220   BIC:                         2.980e+04\n",
            "Df Model:                           2                                         \n",
            "Covariance Type:            nonrobust                                         \n",
            "==================================================================================\n",
            "                     coef    std err          t      P>|t|      [0.025      0.975]\n",
            "----------------------------------------------------------------------------------\n",
            "Intercept         12.1041      0.007   1624.908      0.000      12.090      12.119\n",
            "gender[T.m]        0.1212      0.009     13.108      0.000       0.103       0.139\n",
            "married[T.yes]     0.0703      0.009      7.522      0.000       0.052       0.089\n",
            "==============================================================================\n",
            "Omnibus:                     2902.343   Durbin-Watson:                   1.149\n",
            "Prob(Omnibus):                  0.000   Jarque-Bera (JB):             5242.779\n",
            "Skew:                           1.074   Prob(JB):                         0.00\n",
            "Kurtosis:                       4.641   Cond. No.                         3.25\n",
            "==============================================================================\n",
            "\n",
            "Warnings:\n",
            "[1] Standard Errors assume that the covariance matrix of the errors is correctly specified.\n",
            "\"\"\"\n"
          ]
        }
      ]
    },
    {
      "cell_type": "code",
      "metadata": {
        "colab": {
          "base_uri": "https://localhost:8080/"
        },
        "id": "csWOrjQGp2Zj",
        "outputId": "0710dfc3-0c1c-4429-e20d-f85d34f3cf3f"
      },
      "source": [
        "# Добавляем наличие детей\n",
        "mdl_g_m_ch = ols('log_income_diff ~ gender + married + if_children', data=servants).fit()\n",
        "pprint(mdl_g_m_ch.summary())"
      ],
      "execution_count": 39,
      "outputs": [
        {
          "output_type": "stream",
          "name": "stdout",
          "text": [
            "<class 'statsmodels.iolib.summary.Summary'>\n",
            "\"\"\"\n",
            "                            OLS Regression Results                            \n",
            "==============================================================================\n",
            "Dep. Variable:        log_income_diff   R-squared:                       0.020\n",
            "Model:                            OLS   Adj. R-squared:                  0.019\n",
            "Method:                 Least Squares   F-statistic:                     114.9\n",
            "Date:                Tue, 30 Nov 2021   Prob (F-statistic):           1.07e-73\n",
            "Time:                        11:13:44   Log-Likelihood:                -14875.\n",
            "No. Observations:               17223   AIC:                         2.976e+04\n",
            "Df Residuals:                   17219   BIC:                         2.979e+04\n",
            "Df Model:                           3                                         \n",
            "Covariance Type:            nonrobust                                         \n",
            "======================================================================================\n",
            "                         coef    std err          t      P>|t|      [0.025      0.975]\n",
            "--------------------------------------------------------------------------------------\n",
            "Intercept             12.0961      0.008   1580.183      0.000      12.081      12.111\n",
            "gender[T.m]            0.1151      0.009     12.318      0.000       0.097       0.133\n",
            "married[T.yes]         0.0582      0.010      5.989      0.000       0.039       0.077\n",
            "if_children[T.yes]     0.0426      0.009      4.506      0.000       0.024       0.061\n",
            "==============================================================================\n",
            "Omnibus:                     2846.053   Durbin-Watson:                   1.148\n",
            "Prob(Omnibus):                  0.000   Jarque-Bera (JB):             5093.687\n",
            "Skew:                           1.060   Prob(JB):                         0.00\n",
            "Kurtosis:                       4.614   Cond. No.                         3.57\n",
            "==============================================================================\n",
            "\n",
            "Warnings:\n",
            "[1] Standard Errors assume that the covariance matrix of the errors is correctly specified.\n",
            "\"\"\"\n"
          ]
        }
      ]
    },
    {
      "cell_type": "code",
      "metadata": {
        "colab": {
          "base_uri": "https://localhost:8080/"
        },
        "id": "fT0Hcz0QK5qo",
        "outputId": "7f643eca-0d6f-4fc3-bbd1-0de39bbade13"
      },
      "source": [
        "# добавляем министерство\n",
        "mdl_g_m_ch_st = ols('log_income_diff ~ gender + married + if_children + state_agency_short', data=servants).fit()\n",
        "pprint(mdl_g_m_ch_st.summary())"
      ],
      "execution_count": 40,
      "outputs": [
        {
          "output_type": "stream",
          "name": "stdout",
          "text": [
            "<class 'statsmodels.iolib.summary.Summary'>\n",
            "\"\"\"\n",
            "                            OLS Regression Results                            \n",
            "==============================================================================\n",
            "Dep. Variable:        log_income_diff   R-squared:                       0.095\n",
            "Model:                            OLS   Adj. R-squared:                  0.094\n",
            "Method:                 Least Squares   F-statistic:                     99.85\n",
            "Date:                Tue, 30 Nov 2021   Prob (F-statistic):               0.00\n",
            "Time:                        11:13:44   Log-Likelihood:                -14190.\n",
            "No. Observations:               17223   AIC:                         2.842e+04\n",
            "Df Residuals:                   17204   BIC:                         2.856e+04\n",
            "Df Model:                          18                                         \n",
            "Covariance Type:            nonrobust                                         \n",
            "===========================================================================================================\n",
            "                                              coef    std err          t      P>|t|      [0.025      0.975]\n",
            "-----------------------------------------------------------------------------------------------------------\n",
            "Intercept                                  11.8835      0.021    562.732      0.000      11.842      11.925\n",
            "gender[T.m]                                 0.1384      0.009     15.208      0.000       0.121       0.156\n",
            "married[T.yes]                              0.0464      0.009      4.924      0.000       0.028       0.065\n",
            "if_children[T.yes]                          0.0538      0.009      5.876      0.000       0.036       0.072\n",
            "state_agency_short[T.Минздрав]              0.2561      0.026      9.773      0.000       0.205       0.308\n",
            "state_agency_short[T.Минкультуры]           0.0243      0.029      0.841      0.400      -0.032       0.081\n",
            "state_agency_short[T.Минобр]                0.0828      0.029      2.890      0.004       0.027       0.139\n",
            "state_agency_short[T.Минприроды]            0.1620      0.028      5.733      0.000       0.107       0.217\n",
            "state_agency_short[T.Минпромторг]           0.1065      0.024      4.529      0.000       0.060       0.153\n",
            "state_agency_short[T.Минсельхоз]            0.0872      0.026      3.336      0.001       0.036       0.138\n",
            "state_agency_short[T.Минспорт]              0.2049      0.030      6.803      0.000       0.146       0.264\n",
            "state_agency_short[T.Минстрой]              0.2462      0.036      6.752      0.000       0.175       0.318\n",
            "state_agency_short[T.Минтранс]              0.1102      0.027      4.078      0.000       0.057       0.163\n",
            "state_agency_short[T.Минтруд]               0.2350      0.028      8.281      0.000       0.179       0.291\n",
            "state_agency_short[T.Минфин]                0.5710      0.024     24.284      0.000       0.525       0.617\n",
            "state_agency_short[T.Минцифры]              0.0330      0.028      1.181      0.237      -0.022       0.088\n",
            "state_agency_short[T.Минэкономразвития]     0.2685      0.023     11.629      0.000       0.223       0.314\n",
            "state_agency_short[T.Минэнерго]             0.1279      0.029      4.480      0.000       0.072       0.184\n",
            "state_agency_short[T.Минюст]                0.1821      0.026      7.017      0.000       0.131       0.233\n",
            "==============================================================================\n",
            "Omnibus:                     3068.225   Durbin-Watson:                   1.198\n",
            "Prob(Omnibus):                  0.000   Jarque-Bera (JB):             5743.136\n",
            "Skew:                           1.111   Prob(JB):                         0.00\n",
            "Kurtosis:                       4.750   Cond. No.                         28.3\n",
            "==============================================================================\n",
            "\n",
            "Warnings:\n",
            "[1] Standard Errors assume that the covariance matrix of the errors is correctly specified.\n",
            "\"\"\"\n"
          ]
        }
      ]
    },
    {
      "cell_type": "code",
      "metadata": {
        "colab": {
          "base_uri": "https://localhost:8080/"
        },
        "id": "igG-I-ecLIub",
        "outputId": "a4422fb1-95e2-453b-cc07-20bd7ae858aa"
      },
      "source": [
        "# добавляем год\n",
        "mdl_g_m_ch_st_y = ols('log_income_diff ~ gender + married + if_children + state_agency_short + year_cat', data=servants).fit()\n",
        "pprint(mdl_g_m_ch_st_y.summary())"
      ],
      "execution_count": 41,
      "outputs": [
        {
          "output_type": "stream",
          "name": "stdout",
          "text": [
            "<class 'statsmodels.iolib.summary.Summary'>\n",
            "\"\"\"\n",
            "                            OLS Regression Results                            \n",
            "==============================================================================\n",
            "Dep. Variable:        log_income_diff   R-squared:                       0.113\n",
            "Model:                            OLS   Adj. R-squared:                  0.112\n",
            "Method:                 Least Squares   F-statistic:                     87.76\n",
            "Date:                Tue, 30 Nov 2021   Prob (F-statistic):               0.00\n",
            "Time:                        11:13:44   Log-Likelihood:                -14011.\n",
            "No. Observations:               17223   AIC:                         2.807e+04\n",
            "Df Residuals:                   17197   BIC:                         2.828e+04\n",
            "Df Model:                          25                                         \n",
            "Covariance Type:            nonrobust                                         \n",
            "===========================================================================================================\n",
            "                                              coef    std err          t      P>|t|      [0.025      0.975]\n",
            "-----------------------------------------------------------------------------------------------------------\n",
            "Intercept                                  11.9541      0.025    481.363      0.000      11.905      12.003\n",
            "gender[T.m]                                 0.1392      0.009     15.441      0.000       0.122       0.157\n",
            "married[T.yes]                              0.0452      0.009      4.830      0.000       0.027       0.064\n",
            "if_children[T.yes]                          0.0524      0.009      5.765      0.000       0.035       0.070\n",
            "state_agency_short[T.Минздрав]              0.2541      0.026      9.783      0.000       0.203       0.305\n",
            "state_agency_short[T.Минкультуры]           0.0229      0.029      0.800      0.424      -0.033       0.079\n",
            "state_agency_short[T.Минобр]                0.1213      0.029      4.226      0.000       0.065       0.178\n",
            "state_agency_short[T.Минприроды]            0.1550      0.028      5.531      0.000       0.100       0.210\n",
            "state_agency_short[T.Минпромторг]           0.0989      0.023      4.247      0.000       0.053       0.145\n",
            "state_agency_short[T.Минсельхоз]            0.0789      0.026      3.045      0.002       0.028       0.130\n",
            "state_agency_short[T.Минспорт]              0.2054      0.030      6.884      0.000       0.147       0.264\n",
            "state_agency_short[T.Минстрой]              0.2425      0.036      6.711      0.000       0.172       0.313\n",
            "state_agency_short[T.Минтранс]              0.1064      0.027      3.978      0.000       0.054       0.159\n",
            "state_agency_short[T.Минтруд]               0.2322      0.028      8.259      0.000       0.177       0.287\n",
            "state_agency_short[T.Минфин]                0.5685      0.023     24.403      0.000       0.523       0.614\n",
            "state_agency_short[T.Минцифры]              0.0289      0.028      1.045      0.296      -0.025       0.083\n",
            "state_agency_short[T.Минэкономразвития]     0.2951      0.023     12.859      0.000       0.250       0.340\n",
            "state_agency_short[T.Минэнерго]             0.1239      0.028      4.381      0.000       0.068       0.179\n",
            "state_agency_short[T.Минюст]                0.1786      0.026      6.946      0.000       0.128       0.229\n",
            "year_cat[T.2014]                            0.0090      0.019      0.482      0.630      -0.027       0.045\n",
            "year_cat[T.2015]                           -0.1303      0.018     -7.308      0.000      -0.165      -0.095\n",
            "year_cat[T.2016]                           -0.1531      0.018     -8.604      0.000      -0.188      -0.118\n",
            "year_cat[T.2017]                           -0.1536      0.018     -8.723      0.000      -0.188      -0.119\n",
            "year_cat[T.2018]                           -0.1402      0.018     -7.882      0.000      -0.175      -0.105\n",
            "year_cat[T.2019]                            0.0059      0.018      0.328      0.743      -0.029       0.041\n",
            "year_cat[T.2020]                            0.0387      0.018      2.149      0.032       0.003       0.074\n",
            "==============================================================================\n",
            "Omnibus:                     3210.079   Durbin-Watson:                   1.179\n",
            "Prob(Omnibus):                  0.000   Jarque-Bera (JB):             6190.392\n",
            "Skew:                           1.143   Prob(JB):                         0.00\n",
            "Kurtosis:                       4.843   Cond. No.                         29.1\n",
            "==============================================================================\n",
            "\n",
            "Warnings:\n",
            "[1] Standard Errors assume that the covariance matrix of the errors is correctly specified.\n",
            "\"\"\"\n"
          ]
        }
      ]
    },
    {
      "cell_type": "code",
      "metadata": {
        "colab": {
          "base_uri": "https://localhost:8080/"
        },
        "id": "-dE1Rr_0s7yM",
        "outputId": "671e8d86-3a78-4ee0-edbe-93ca778e0c08"
      },
      "source": [
        "# добавляем должность\n",
        "mdl_g_m_ch_st_y_pos = ols('log_income_diff ~ gender + married + if_children + state_agency_short + year_cat + position_standard', data=servants).fit()\n",
        "pprint(mdl_g_m_ch_st_y_pos.summary())"
      ],
      "execution_count": 42,
      "outputs": [
        {
          "output_type": "stream",
          "name": "stdout",
          "text": [
            "<class 'statsmodels.iolib.summary.Summary'>\n",
            "\"\"\"\n",
            "                            OLS Regression Results                            \n",
            "==============================================================================\n",
            "Dep. Variable:        log_income_diff   R-squared:                       0.513\n",
            "Model:                            OLS   Adj. R-squared:                  0.512\n",
            "Method:                 Least Squares   F-statistic:                     583.9\n",
            "Date:                Tue, 30 Nov 2021   Prob (F-statistic):               0.00\n",
            "Time:                        11:13:45   Log-Likelihood:                -8851.7\n",
            "No. Observations:               17223   AIC:                         1.777e+04\n",
            "Df Residuals:                   17191   BIC:                         1.802e+04\n",
            "Df Model:                          31                                         \n",
            "Covariance Type:            nonrobust                                         \n",
            "===========================================================================================================================\n",
            "                                                              coef    std err          t      P>|t|      [0.025      0.975]\n",
            "---------------------------------------------------------------------------------------------------------------------------\n",
            "Intercept                                                  12.8835      0.022    588.461      0.000      12.841      12.926\n",
            "gender[T.m]                                                 0.0015      0.007      0.219      0.826      -0.012       0.015\n",
            "married[T.yes]                                              0.0194      0.007      2.787      0.005       0.006       0.033\n",
            "if_children[T.yes]                                         -0.0087      0.007     -1.284      0.199      -0.022       0.005\n",
            "state_agency_short[T.Минздрав]                              0.0161      0.020      0.820      0.412      -0.022       0.054\n",
            "state_agency_short[T.Минкультуры]                          -0.1705      0.021     -7.982      0.000      -0.212      -0.129\n",
            "state_agency_short[T.Минобр]                                0.0144      0.021      0.674      0.500      -0.027       0.056\n",
            "state_agency_short[T.Минприроды]                            0.0099      0.021      0.469      0.639      -0.031       0.051\n",
            "state_agency_short[T.Минпромторг]                          -0.0078      0.018     -0.446      0.656      -0.042       0.027\n",
            "state_agency_short[T.Минсельхоз]                           -0.0949      0.020     -4.864      0.000      -0.133      -0.057\n",
            "state_agency_short[T.Минспорт]                              0.0021      0.023      0.093      0.926      -0.042       0.046\n",
            "state_agency_short[T.Минстрой]                             -0.1876      0.027     -6.884      0.000      -0.241      -0.134\n",
            "state_agency_short[T.Минтранс]                             -0.0791      0.020     -3.911      0.000      -0.119      -0.039\n",
            "state_agency_short[T.Минтруд]                              -0.0639      0.021     -3.007      0.003      -0.106      -0.022\n",
            "state_agency_short[T.Минфин]                                0.4948      0.017     28.331      0.000       0.461       0.529\n",
            "state_agency_short[T.Минцифры]                             -0.2351      0.021    -11.261      0.000      -0.276      -0.194\n",
            "state_agency_short[T.Минэкономразвития]                     0.2672      0.017     15.630      0.000       0.234       0.301\n",
            "state_agency_short[T.Минэнерго]                            -0.0785      0.021     -3.689      0.000      -0.120      -0.037\n",
            "state_agency_short[T.Минюст]                                0.0661      0.019      3.448      0.001       0.029       0.104\n",
            "year_cat[T.2014]                                           -0.0111      0.014     -0.804      0.421      -0.038       0.016\n",
            "year_cat[T.2015]                                           -0.1486      0.013    -11.247      0.000      -0.175      -0.123\n",
            "year_cat[T.2016]                                           -0.1650      0.013    -12.509      0.000      -0.191      -0.139\n",
            "year_cat[T.2017]                                           -0.1712      0.013    -13.106      0.000      -0.197      -0.146\n",
            "year_cat[T.2018]                                           -0.1470      0.013    -11.141      0.000      -0.173      -0.121\n",
            "year_cat[T.2019]                                           -0.0020      0.013     -0.153      0.878      -0.028       0.024\n",
            "year_cat[T.2020]                                            0.0044      0.013      0.331      0.741      -0.022       0.031\n",
            "position_standard[T.заместитель директора департамента]    -0.4740      0.012    -39.183      0.000      -0.498      -0.450\n",
            "position_standard[T.заместитель федерального министра]      0.5288      0.020     26.327      0.000       0.489       0.568\n",
            "position_standard[T.начальник отдела]                      -0.9056      0.012    -76.973      0.000      -0.929      -0.883\n",
            "position_standard[T.помощник федерального министра]        -0.3063      0.025    -12.050      0.000      -0.356      -0.256\n",
            "position_standard[T.референт]                              -1.1020      0.014    -77.945      0.000      -1.130      -1.074\n",
            "position_standard[T.советник федерального министра]        -0.3055      0.025    -12.384      0.000      -0.354      -0.257\n",
            "==============================================================================\n",
            "Omnibus:                     5892.096   Durbin-Watson:                   1.604\n",
            "Prob(Omnibus):                  0.000   Jarque-Bera (JB):            28405.673\n",
            "Skew:                           1.595   Prob(JB):                         0.00\n",
            "Kurtosis:                       8.422   Cond. No.                         31.6\n",
            "==============================================================================\n",
            "\n",
            "Warnings:\n",
            "[1] Standard Errors assume that the covariance matrix of the errors is correctly specified.\n",
            "\"\"\"\n"
          ]
        }
      ]
    },
    {
      "cell_type": "markdown",
      "metadata": {
        "id": "MHo01PyRrrhw"
      },
      "source": [
        "Формируем общую таблицу с результатами регрессии на всех данных"
      ]
    },
    {
      "cell_type": "code",
      "metadata": {
        "id": "CkSM5SI8sCce"
      },
      "source": [
        "res_table_all = summary_col([mdl_g, mdl_g_m, mdl_g_m_ch, mdl_g_m_ch_st, mdl_g_m_ch_st_y, mdl_g_m_ch_st_y_pos], \n",
        "                            stars=True,float_format='%0.3f', info_dict={'N':lambda x: \"{0:d}\".format(int(x.nobs)),\n",
        "                             'R2':lambda x: \"{:.3f}\".format(x.rsquared)},\n",
        "                             model_names=['(1)','(2)','(3)', '(4)', '(5)', '(6)'])"
      ],
      "execution_count": 43,
      "outputs": []
    },
    {
      "cell_type": "code",
      "metadata": {
        "colab": {
          "base_uri": "https://localhost:8080/",
          "height": 424
        },
        "id": "8PFFpRgBsCce",
        "outputId": "f626d8c1-2ff7-4f79-f437-f2e76d7816be"
      },
      "source": [
        "res_table_all.tables[0]"
      ],
      "execution_count": 44,
      "outputs": [
        {
          "output_type": "execute_result",
          "data": {
            "text/html": [
              "<div>\n",
              "<style scoped>\n",
              "    .dataframe tbody tr th:only-of-type {\n",
              "        vertical-align: middle;\n",
              "    }\n",
              "\n",
              "    .dataframe tbody tr th {\n",
              "        vertical-align: top;\n",
              "    }\n",
              "\n",
              "    .dataframe thead th {\n",
              "        text-align: right;\n",
              "    }\n",
              "</style>\n",
              "<table border=\"1\" class=\"dataframe\">\n",
              "  <thead>\n",
              "    <tr style=\"text-align: right;\">\n",
              "      <th></th>\n",
              "      <th>(1)</th>\n",
              "      <th>(2)</th>\n",
              "      <th>(3)</th>\n",
              "      <th>(4)</th>\n",
              "      <th>(5)</th>\n",
              "      <th>(6)</th>\n",
              "    </tr>\n",
              "  </thead>\n",
              "  <tbody>\n",
              "    <tr>\n",
              "      <th>Intercept</th>\n",
              "      <td>12.133***</td>\n",
              "      <td>12.104***</td>\n",
              "      <td>12.096***</td>\n",
              "      <td>11.884***</td>\n",
              "      <td>11.954***</td>\n",
              "      <td>12.884***</td>\n",
              "    </tr>\n",
              "    <tr>\n",
              "      <th></th>\n",
              "      <td>(0.006)</td>\n",
              "      <td>(0.007)</td>\n",
              "      <td>(0.008)</td>\n",
              "      <td>(0.021)</td>\n",
              "      <td>(0.025)</td>\n",
              "      <td>(0.022)</td>\n",
              "    </tr>\n",
              "    <tr>\n",
              "      <th>gender[T.m]</th>\n",
              "      <td>0.143***</td>\n",
              "      <td>0.121***</td>\n",
              "      <td>0.115***</td>\n",
              "      <td>0.138***</td>\n",
              "      <td>0.139***</td>\n",
              "      <td>0.001</td>\n",
              "    </tr>\n",
              "    <tr>\n",
              "      <th></th>\n",
              "      <td>(0.009)</td>\n",
              "      <td>(0.009)</td>\n",
              "      <td>(0.009)</td>\n",
              "      <td>(0.009)</td>\n",
              "      <td>(0.009)</td>\n",
              "      <td>(0.007)</td>\n",
              "    </tr>\n",
              "    <tr>\n",
              "      <th>if_children[T.yes]</th>\n",
              "      <td></td>\n",
              "      <td></td>\n",
              "      <td>0.043***</td>\n",
              "      <td>0.054***</td>\n",
              "      <td>0.052***</td>\n",
              "      <td>-0.009</td>\n",
              "    </tr>\n",
              "    <tr>\n",
              "      <th>...</th>\n",
              "      <td>...</td>\n",
              "      <td>...</td>\n",
              "      <td>...</td>\n",
              "      <td>...</td>\n",
              "      <td>...</td>\n",
              "      <td>...</td>\n",
              "    </tr>\n",
              "    <tr>\n",
              "      <th></th>\n",
              "      <td></td>\n",
              "      <td></td>\n",
              "      <td></td>\n",
              "      <td></td>\n",
              "      <td>(0.018)</td>\n",
              "      <td>(0.013)</td>\n",
              "    </tr>\n",
              "    <tr>\n",
              "      <th>year_cat[T.2020]</th>\n",
              "      <td></td>\n",
              "      <td></td>\n",
              "      <td></td>\n",
              "      <td></td>\n",
              "      <td>0.039**</td>\n",
              "      <td>0.004</td>\n",
              "    </tr>\n",
              "    <tr>\n",
              "      <th></th>\n",
              "      <td></td>\n",
              "      <td></td>\n",
              "      <td></td>\n",
              "      <td></td>\n",
              "      <td>(0.018)</td>\n",
              "      <td>(0.013)</td>\n",
              "    </tr>\n",
              "    <tr>\n",
              "      <th>N</th>\n",
              "      <td>17223</td>\n",
              "      <td>17223</td>\n",
              "      <td>17223</td>\n",
              "      <td>17223</td>\n",
              "      <td>17223</td>\n",
              "      <td>17223</td>\n",
              "    </tr>\n",
              "    <tr>\n",
              "      <th>R2</th>\n",
              "      <td>0.015</td>\n",
              "      <td>0.018</td>\n",
              "      <td>0.020</td>\n",
              "      <td>0.095</td>\n",
              "      <td>0.113</td>\n",
              "      <td>0.513</td>\n",
              "    </tr>\n",
              "  </tbody>\n",
              "</table>\n",
              "<p>66 rows × 6 columns</p>\n",
              "</div>"
            ],
            "text/plain": [
              "                          (1)        (2)  ...        (5)        (6)\n",
              "Intercept           12.133***  12.104***  ...  11.954***  12.884***\n",
              "                      (0.006)    (0.007)  ...    (0.025)    (0.022)\n",
              "gender[T.m]          0.143***   0.121***  ...   0.139***      0.001\n",
              "                      (0.009)    (0.009)  ...    (0.009)    (0.007)\n",
              "if_children[T.yes]                        ...   0.052***     -0.009\n",
              "...                       ...        ...  ...        ...        ...\n",
              "                                          ...    (0.018)    (0.013)\n",
              "year_cat[T.2020]                          ...    0.039**      0.004\n",
              "                                          ...    (0.018)    (0.013)\n",
              "N                       17223      17223  ...      17223      17223\n",
              "R2                      0.015      0.018  ...      0.113      0.513\n",
              "\n",
              "[66 rows x 6 columns]"
            ]
          },
          "metadata": {},
          "execution_count": 44
        }
      ]
    },
    {
      "cell_type": "markdown",
      "metadata": {
        "id": "je4D_LbWZMN5"
      },
      "source": [
        "## 2. Регрессия групп министерств"
      ]
    },
    {
      "cell_type": "code",
      "metadata": {
        "id": "En3BkgZ_ru94"
      },
      "source": [
        "# функция для последовательного добавления объясняющих переменных\n",
        "# и формирования общей таблицы с результатами\n",
        "\n",
        "def regress(data):\n",
        "  #Только пол\n",
        "  mdl_g = ols('log_income_diff ~ gender', data=data).fit()\n",
        "  #Добавляем семейный статус и наличие детей\n",
        "  mdl_g_pers = ols('log_income_diff ~ gender + married + if_children', data=data).fit()\n",
        "  #Добавляем министерство и год\n",
        "  mdl_g_pers_st = ols('log_income_diff ~ gender + married + if_children + state_agency_short + year_cat', data=data).fit()\n",
        "  #Добавляем должность\n",
        "  mdl_full = ols('log_income_diff ~ gender + married + if_children + state_agency_short + year_cat + position_standard', data=data).fit()\n",
        "\n",
        "  res_table = summary_col([mdl_g, mdl_g_pers, mdl_g_pers_st, mdl_full],\n",
        "                          stars=True, float_format='%0.3f',\n",
        "                           info_dict={'N':lambda x: \"{0:d}\".format(int(x.nobs)),\n",
        "                                      'R2':lambda x: \"{:.3f}\".format(x.rsquared)},\n",
        "                           model_names=['(1)','(2)','(3)', '(4)'])\n",
        "\n",
        "  result = [res_table, mdl_full]\n",
        "  return result\n",
        "\n"
      ],
      "execution_count": 104,
      "outputs": []
    },
    {
      "cell_type": "markdown",
      "metadata": {
        "id": "QcXX2dDgrz6c"
      },
      "source": [
        "### **Группа 4:**"
      ]
    },
    {
      "cell_type": "code",
      "metadata": {
        "id": "BZZNEjOqko8V",
        "colab": {
          "base_uri": "https://localhost:8080/"
        },
        "outputId": "d62daf97-b643-4891-db17-78044b610645"
      },
      "source": [
        "state_list = ['Минкультуры', 'Минстрой', 'Минтруд', 'Минздрав', 'Минсельхоз', 'Минпромторг']\n",
        "group_4 = servants[servants['state_agency_short'].isin(state_list)]\n",
        "len(group_4)"
      ],
      "execution_count": 48,
      "outputs": [
        {
          "output_type": "execute_result",
          "data": {
            "text/plain": [
              "6142"
            ]
          },
          "metadata": {},
          "execution_count": 48
        }
      ]
    },
    {
      "cell_type": "markdown",
      "metadata": {
        "id": "ArOUFk3KUMCK"
      },
      "source": [
        "**Регрессия без эффекта взаимодействия.\n",
        "Последовательное добавление переменных**"
      ]
    },
    {
      "cell_type": "code",
      "metadata": {
        "id": "YaITKQ3ptCFK"
      },
      "source": [
        "res_table_4, mdl_4_no_int_full = regress(group_4)\n",
        "res_table_4.tables[0]"
      ],
      "execution_count": null,
      "outputs": []
    },
    {
      "cell_type": "markdown",
      "metadata": {
        "id": "aSPtEUhHUQCZ"
      },
      "source": [
        "**Со взаимодействием**"
      ]
    },
    {
      "cell_type": "code",
      "metadata": {
        "id": "3L5_58KKLMA8"
      },
      "source": [
        "mdl_g4_full = ols('log_income_diff ~ position_standard + state_agency_short + married + gender + gender*married  + gender*if_children + year_cat', data=group_4).fit()"
      ],
      "execution_count": null,
      "outputs": []
    },
    {
      "cell_type": "markdown",
      "metadata": {
        "id": "yLJ7jqPUr5yr"
      },
      "source": [
        "### **Группа 3:**"
      ]
    },
    {
      "cell_type": "code",
      "metadata": {
        "id": "TShmlSHar5ys",
        "colab": {
          "base_uri": "https://localhost:8080/"
        },
        "outputId": "596641d8-1a71-4e67-9ef1-7b24503d1dcb"
      },
      "source": [
        "state_list = ['Минцифры', 'Минобр', 'Минюст']\n",
        "group_3 = servants[servants['state_agency_short'].isin(state_list)]\n",
        "len(group_3)"
      ],
      "execution_count": 89,
      "outputs": [
        {
          "output_type": "execute_result",
          "data": {
            "text/plain": [
              "2711"
            ]
          },
          "metadata": {},
          "execution_count": 89
        }
      ]
    },
    {
      "cell_type": "markdown",
      "metadata": {
        "id": "VirwnwtcVSZo"
      },
      "source": [
        "**Без эффекта взаимодействия**"
      ]
    },
    {
      "cell_type": "code",
      "metadata": {
        "id": "wofd6kgJtxJC"
      },
      "source": [
        "res_table_3, mdl_3_no_int_full = regress(group_3)\n",
        "res_table_3.tables[0]"
      ],
      "execution_count": null,
      "outputs": []
    },
    {
      "cell_type": "markdown",
      "metadata": {
        "id": "xIt3kaLQVVNz"
      },
      "source": [
        "**Со взаимодействием**"
      ]
    },
    {
      "cell_type": "code",
      "metadata": {
        "id": "fNXQBnWDr5yt"
      },
      "source": [
        "mdl_g3_full = ols('log_income_diff ~ position_standard + state_agency_short + married + gender + gender*married + gender*if_children + year_cat', data=group_3).fit()"
      ],
      "execution_count": 96,
      "outputs": []
    },
    {
      "cell_type": "markdown",
      "metadata": {
        "id": "xH504p_ixwT-"
      },
      "source": [
        "### **Группа 1:**"
      ]
    },
    {
      "cell_type": "code",
      "metadata": {
        "id": "esGEG7IfxzUy",
        "colab": {
          "base_uri": "https://localhost:8080/"
        },
        "outputId": "353a4eef-752c-4e61-db58-bd9448cd3623"
      },
      "source": [
        "state_list = ['Минэнерго', 'Минфин', 'Минтранс', 'Минприроды']\n",
        "group_1 = servants[servants['state_agency_short'].isin(state_list)]\n",
        "len(group_1)"
      ],
      "execution_count": 71,
      "outputs": [
        {
          "output_type": "execute_result",
          "data": {
            "text/plain": [
              "4587"
            ]
          },
          "metadata": {},
          "execution_count": 71
        }
      ]
    },
    {
      "cell_type": "markdown",
      "metadata": {
        "id": "ltixmdeEWqCV"
      },
      "source": [
        "**Без эффекта взаимодействия**"
      ]
    },
    {
      "cell_type": "code",
      "metadata": {
        "id": "vePRuS3ZuBTV"
      },
      "source": [
        "res_table_1, mdl_1_no_int_full = regress(group_1)\n",
        "res_table_1.tables[0]"
      ],
      "execution_count": null,
      "outputs": []
    },
    {
      "cell_type": "markdown",
      "metadata": {
        "id": "NXMecujQWr9z"
      },
      "source": [
        "**Со взаимодействием**"
      ]
    },
    {
      "cell_type": "code",
      "metadata": {
        "id": "__WZTRJExzUy"
      },
      "source": [
        "mdl_g1_full = ols('log_income_diff ~ position_standard + state_agency_short + married + gender + gender*married + gender*if_children + year_cat', data=group_1).fit()"
      ],
      "execution_count": 79,
      "outputs": []
    },
    {
      "cell_type": "markdown",
      "metadata": {
        "id": "ai5TegjP0Vpn"
      },
      "source": [
        "### **Группа 2:**"
      ]
    },
    {
      "cell_type": "code",
      "metadata": {
        "id": "HQoulUWk0m8d",
        "colab": {
          "base_uri": "https://localhost:8080/"
        },
        "outputId": "45e783a0-e924-4e50-ef36-abeaa2491efe"
      },
      "source": [
        "state_list = ['Минвостокразвития', 'Минэкономразвития', 'Минспорт']\n",
        "group_2 = servants[servants['state_agency_short'].isin(state_list)]\n",
        "len(group_2)"
      ],
      "execution_count": 80,
      "outputs": [
        {
          "output_type": "execute_result",
          "data": {
            "text/plain": [
              "3783"
            ]
          },
          "metadata": {},
          "execution_count": 80
        }
      ]
    },
    {
      "cell_type": "markdown",
      "metadata": {
        "id": "--1PQhIdYL5b"
      },
      "source": [
        "**Без эффекта взаимодействия**"
      ]
    },
    {
      "cell_type": "code",
      "metadata": {
        "id": "7-Cfn1LbuVJS"
      },
      "source": [
        "res_table_2, mdl_2_no_int_full = regress(group_2)\n",
        "res_table_2.tables[0]"
      ],
      "execution_count": null,
      "outputs": []
    },
    {
      "cell_type": "markdown",
      "metadata": {
        "id": "ITYqogoAYN2W"
      },
      "source": [
        "Со взаимодействием"
      ]
    },
    {
      "cell_type": "code",
      "metadata": {
        "id": "fH6cHzBF0m8d"
      },
      "source": [
        "mdl_g2_full = ols('log_income_diff ~ position_standard + state_agency_short + gender + married + gender*married + gender*if_children + year_cat', data=group_2).fit()"
      ],
      "execution_count": 103,
      "outputs": []
    },
    {
      "cell_type": "markdown",
      "metadata": {
        "id": "Kp9VfFO9Lu-P"
      },
      "source": [
        "**СВОДНАЯ ТАБЛИЦА ПО ВСЕМ ГРУПАМ БЕЗ ВЗАИМОДЕЙСТВИЯ**\n",
        "\n"
      ]
    },
    {
      "cell_type": "code",
      "metadata": {
        "id": "dhKUPBUgL0Bm"
      },
      "source": [
        "res_table_groups_no_int = summary_col([mdl_1_no_int_full, mdl_2_no_int_full, mdl_3_no_int_full,\n",
        "                                       mdl_4_no_int_full],stars=True, float_format='%0.3f',\n",
        "                                       info_dict={'N':lambda x: \"{0:d}\".format(int(x.nobs)),\n",
        "                             'R2':lambda x: \"{:.3f}\".format(x.rsquared)},\n",
        "                              model_names=['Группа 1', 'Группа 2', 'Группа 3', 'Группа 4'])"
      ],
      "execution_count": 109,
      "outputs": []
    },
    {
      "cell_type": "code",
      "metadata": {
        "id": "EuTYvjR8Rokk"
      },
      "source": [
        "res_table_groups_no_int.tables[0]"
      ],
      "execution_count": null,
      "outputs": []
    },
    {
      "cell_type": "markdown",
      "metadata": {
        "id": "rf0mN8fQpYey"
      },
      "source": [
        "**СВОДНАЯ ТАБЛИЦА ПО ВСЕМ ГРУПАМ СО ВЗАИМОДЕЙСТВИЕМ**"
      ]
    },
    {
      "cell_type": "code",
      "metadata": {
        "id": "4gb1_loNphT7"
      },
      "source": [
        "res_table_int = summary_col([mdl_g1_full, mdl_g2_full, mdl_g3_full, mdl_g4_full],\n",
        "                            stars=True, float_format='%0.3f', info_dict={'N':lambda x: \"{0:d}\".format(int(x.nobs)),\n",
        "                             'R2':lambda x: \"{:.3f}\".format(x.rsquared)}, model_names=['Группа 1', 'Группа 2', 'Группа 3', 'Группа 4'])"
      ],
      "execution_count": 111,
      "outputs": []
    },
    {
      "cell_type": "code",
      "metadata": {
        "colab": {
          "base_uri": "https://localhost:8080/",
          "height": 424
        },
        "id": "Z7iv0X9WpY-9",
        "outputId": "7bed8738-d709-4597-f530-bede0ed21c41"
      },
      "source": [
        "res_table_int.tables[0]"
      ],
      "execution_count": 112,
      "outputs": [
        {
          "output_type": "execute_result",
          "data": {
            "text/html": [
              "<div>\n",
              "<style scoped>\n",
              "    .dataframe tbody tr th:only-of-type {\n",
              "        vertical-align: middle;\n",
              "    }\n",
              "\n",
              "    .dataframe tbody tr th {\n",
              "        vertical-align: top;\n",
              "    }\n",
              "\n",
              "    .dataframe thead th {\n",
              "        text-align: right;\n",
              "    }\n",
              "</style>\n",
              "<table border=\"1\" class=\"dataframe\">\n",
              "  <thead>\n",
              "    <tr style=\"text-align: right;\">\n",
              "      <th></th>\n",
              "      <th>Группа 1</th>\n",
              "      <th>Группа 2</th>\n",
              "      <th>Группа 3</th>\n",
              "      <th>Группа 4</th>\n",
              "    </tr>\n",
              "  </thead>\n",
              "  <tbody>\n",
              "    <tr>\n",
              "      <th>Intercept</th>\n",
              "      <td>13.000***</td>\n",
              "      <td>12.959***</td>\n",
              "      <td>12.851***</td>\n",
              "      <td>12.914***</td>\n",
              "    </tr>\n",
              "    <tr>\n",
              "      <th></th>\n",
              "      <td>(0.032)</td>\n",
              "      <td>(0.047)</td>\n",
              "      <td>(0.042)</td>\n",
              "      <td>(0.026)</td>\n",
              "    </tr>\n",
              "    <tr>\n",
              "      <th>gender[T.m]</th>\n",
              "      <td>-0.089***</td>\n",
              "      <td>-0.086***</td>\n",
              "      <td>0.068***</td>\n",
              "      <td>-0.044**</td>\n",
              "    </tr>\n",
              "    <tr>\n",
              "      <th></th>\n",
              "      <td>(0.022)</td>\n",
              "      <td>(0.022)</td>\n",
              "      <td>(0.025)</td>\n",
              "      <td>(0.018)</td>\n",
              "    </tr>\n",
              "    <tr>\n",
              "      <th>gender[T.m]:if_children[T.yes]</th>\n",
              "      <td>0.006</td>\n",
              "      <td>-0.009</td>\n",
              "      <td>0.042</td>\n",
              "      <td>-0.046**</td>\n",
              "    </tr>\n",
              "    <tr>\n",
              "      <th>...</th>\n",
              "      <td>...</td>\n",
              "      <td>...</td>\n",
              "      <td>...</td>\n",
              "      <td>...</td>\n",
              "    </tr>\n",
              "    <tr>\n",
              "      <th></th>\n",
              "      <td>(0.023)</td>\n",
              "      <td>(0.039)</td>\n",
              "      <td>(0.036)</td>\n",
              "      <td>(0.021)</td>\n",
              "    </tr>\n",
              "    <tr>\n",
              "      <th>year_cat[T.2020]</th>\n",
              "      <td>0.007</td>\n",
              "      <td>-0.200***</td>\n",
              "      <td>0.027</td>\n",
              "      <td>0.059***</td>\n",
              "    </tr>\n",
              "    <tr>\n",
              "      <th></th>\n",
              "      <td>(0.024)</td>\n",
              "      <td>(0.040)</td>\n",
              "      <td>(0.035)</td>\n",
              "      <td>(0.021)</td>\n",
              "    </tr>\n",
              "    <tr>\n",
              "      <th>N</th>\n",
              "      <td>4587</td>\n",
              "      <td>3783</td>\n",
              "      <td>2711</td>\n",
              "      <td>6142</td>\n",
              "    </tr>\n",
              "    <tr>\n",
              "      <th>R2</th>\n",
              "      <td>0.588</td>\n",
              "      <td>0.504</td>\n",
              "      <td>0.507</td>\n",
              "      <td>0.464</td>\n",
              "    </tr>\n",
              "  </tbody>\n",
              "</table>\n",
              "<p>64 rows × 4 columns</p>\n",
              "</div>"
            ],
            "text/plain": [
              "                                 Группа 1   Группа 2   Группа 3   Группа 4\n",
              "Intercept                       13.000***  12.959***  12.851***  12.914***\n",
              "                                  (0.032)    (0.047)    (0.042)    (0.026)\n",
              "gender[T.m]                     -0.089***  -0.086***   0.068***   -0.044**\n",
              "                                  (0.022)    (0.022)    (0.025)    (0.018)\n",
              "gender[T.m]:if_children[T.yes]      0.006     -0.009      0.042   -0.046**\n",
              "...                                   ...        ...        ...        ...\n",
              "                                  (0.023)    (0.039)    (0.036)    (0.021)\n",
              "year_cat[T.2020]                    0.007  -0.200***      0.027   0.059***\n",
              "                                  (0.024)    (0.040)    (0.035)    (0.021)\n",
              "N                                    4587       3783       2711       6142\n",
              "R2                                  0.588      0.504      0.507      0.464\n",
              "\n",
              "[64 rows x 4 columns]"
            ]
          },
          "metadata": {},
          "execution_count": 112
        }
      ]
    }
  ]
}