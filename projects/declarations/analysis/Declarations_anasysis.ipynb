{
  "nbformat": 4,
  "nbformat_minor": 0,
  "metadata": {
    "colab": {
      "name": "Декларации_регрессия_clean.ipynb",
      "provenance": []
    },
    "kernelspec": {
      "name": "python3",
      "display_name": "Python 3"
    },
    "language_info": {
      "name": "python"
    }
  },
  "cells": [
    {
      "cell_type": "code",
      "metadata": {
        "id": "ZduEQ0_p09qo",
        "colab": {
          "base_uri": "https://localhost:8080/"
        },
        "outputId": "0ed71e04-542a-4016-c0b6-66e40ca4f9fe"
      },
      "source": [
        "import pandas as pd\n",
        "import numpy as np\n",
        "import statsmodels.api as sm\n",
        "from statsmodels.formula.api import ols\n",
        "from statsmodels.iolib.summary2 import summary_col"
      ],
      "execution_count": 1,
      "outputs": [
        {
          "output_type": "stream",
          "name": "stderr",
          "text": [
            "/usr/local/lib/python3.7/dist-packages/statsmodels/tools/_testing.py:19: FutureWarning: pandas.util.testing is deprecated. Use the functions in the public API at pandas.testing instead.\n",
            "  import pandas.util.testing as tm\n"
          ]
        }
      ]
    },
    {
      "cell_type": "code",
      "metadata": {
        "colab": {
          "base_uri": "https://localhost:8080/"
        },
        "id": "j0NM1BrBaHP-",
        "outputId": "82e97ada-caae-47a0-dba6-b5a5862a11fa"
      },
      "source": [
        "# Забираем датасет, предобработанный для проведения регрессионного анализа\n",
        "!wget https://nc.cloud.cpur.ru/s/zAaYy5EDMySndAC/download/declarations_for_regression.xlsx"
      ],
      "execution_count": 2,
      "outputs": [
        {
          "output_type": "stream",
          "name": "stdout",
          "text": [
            "--2021-12-01 07:53:02--  https://nc.cloud.cpur.ru/s/zAaYy5EDMySndAC/download/declarations_for_regression.xlsx\n",
            "Resolving nc.cloud.cpur.ru (nc.cloud.cpur.ru)... 84.201.157.40\n",
            "Connecting to nc.cloud.cpur.ru (nc.cloud.cpur.ru)|84.201.157.40|:443... connected.\n",
            "HTTP request sent, awaiting response... 200 OK\n",
            "Length: 774872 (757K) [application/vnd.openxmlformats-officedocument.spreadsheetml.sheet]\n",
            "Saving to: ‘declarations_for_regression.xlsx’\n",
            "\n",
            "declarations_for_re 100%[===================>] 756.71K  1.33MB/s    in 0.6s    \n",
            "\n",
            "2021-12-01 07:53:04 (1.33 MB/s) - ‘declarations_for_regression.xlsx’ saved [774872/774872]\n",
            "\n"
          ]
        }
      ]
    },
    {
      "cell_type": "code",
      "metadata": {
        "id": "sf4Gs5w-1bcO",
        "colab": {
          "base_uri": "https://localhost:8080/"
        },
        "outputId": "5f528870-430e-4185-f948-714577a88767"
      },
      "source": [
        "servants = pd.read_excel('declarations_for_regression.xlsx')\n",
        "len(servants)"
      ],
      "execution_count": 3,
      "outputs": [
        {
          "output_type": "execute_result",
          "data": {
            "text/plain": [
              "17223"
            ]
          },
          "metadata": {},
          "execution_count": 3
        }
      ]
    },
    {
      "cell_type": "code",
      "metadata": {
        "colab": {
          "base_uri": "https://localhost:8080/"
        },
        "id": "tUjJyFoF1X8q",
        "outputId": "b0503f01-b21f-4f77-cf0e-66abd602d99d"
      },
      "source": [
        "servants.info()"
      ],
      "execution_count": 21,
      "outputs": [
        {
          "output_type": "stream",
          "name": "stdout",
          "text": [
            "<class 'pandas.core.frame.DataFrame'>\n",
            "RangeIndex: 17223 entries, 0 to 17222\n",
            "Data columns (total 9 columns):\n",
            " #   Column                            Non-Null Count  Dtype  \n",
            "---  ------                            --------------  -----  \n",
            " 0   Unnamed: 0                        17223 non-null  int64  \n",
            " 1   name                              17223 non-null  object \n",
            " 2   position_standard                 17223 non-null  object \n",
            " 3   gender                            17223 non-null  object \n",
            " 4   married                           17223 non-null  object \n",
            " 5   year                              17223 non-null  int64  \n",
            " 6   state_agency_short                17223 non-null  object \n",
            " 7   children                          17223 non-null  int64  \n",
            " 8   income_diff_month_const_чиновник  17223 non-null  float64\n",
            "dtypes: float64(1), int64(3), object(5)\n",
            "memory usage: 1.2+ MB\n"
          ]
        }
      ]
    },
    {
      "cell_type": "code",
      "metadata": {
        "id": "8o3rk8Q_OFpo"
      },
      "source": [
        "# создаем переменную: наличине несоврешеннолетних детей\n",
        "servants['if_children'] = np.where(servants['children'] == 0, 'no', 'yes')"
      ],
      "execution_count": 4,
      "outputs": []
    },
    {
      "cell_type": "code",
      "metadata": {
        "id": "fyVbTD0-VIsj"
      },
      "source": [
        "#логарифмируем месячный доход чиновников\n",
        "servants['log_monthly_income'] = np.log(servants['income_diff_month_const_чиновник'])"
      ],
      "execution_count": 5,
      "outputs": []
    },
    {
      "cell_type": "code",
      "metadata": {
        "id": "pDRBqQ7PKE-7"
      },
      "source": [
        "# создаем категориальные переменную года\n",
        "servants['year_cat'] = servants['year'].astype(str)"
      ],
      "execution_count": 6,
      "outputs": []
    },
    {
      "cell_type": "markdown",
      "metadata": {
        "id": "RmfK8hiBZgWV"
      },
      "source": [
        "## 1. Регрессия на данных всех министерств"
      ]
    },
    {
      "cell_type": "code",
      "metadata": {
        "id": "ZyVcRp97n0RR"
      },
      "source": [
        "list_predictors = ['gender', ' + married', ' + if_children', ' + state_agency_short',\n",
        "                   ' + year_cat', ' + position_standard']"
      ],
      "execution_count": 31,
      "outputs": []
    },
    {
      "cell_type": "code",
      "metadata": {
        "id": "41daA6rgoaCH"
      },
      "source": [
        "# Последовательно добавляем объясняющие переменные из списка\n",
        "models_list = []\n",
        "formula = 'log_monthly_income ~ '\n",
        "\n",
        "for predictor in list_predictors:\n",
        "  formula += predictor\n",
        "  model = ols(formula, data = servants).fit()\n",
        "  models_list.append(model)"
      ],
      "execution_count": 35,
      "outputs": []
    },
    {
      "cell_type": "markdown",
      "metadata": {
        "id": "MHo01PyRrrhw"
      },
      "source": [
        "Формируем общую таблицу с результатами регрессии на всех данных"
      ]
    },
    {
      "cell_type": "code",
      "metadata": {
        "id": "CkSM5SI8sCce"
      },
      "source": [
        "res_table_all = summary_col(models_list, \n",
        "                            stars=True,float_format='%0.3f', info_dict={'N':lambda x: \"{0:d}\".format(int(x.nobs)),\n",
        "                             'R2':lambda x: \"{:.3f}\".format(x.rsquared)},\n",
        "                             model_names=['(1)','(2)','(3)', '(4)', '(5)', '(6)'])"
      ],
      "execution_count": 36,
      "outputs": []
    },
    {
      "cell_type": "markdown",
      "metadata": {
        "id": "wRhEwoS_rYGm"
      },
      "source": [
        "**Печатаем результаты**"
      ]
    },
    {
      "cell_type": "code",
      "metadata": {
        "id": "IW1FSXwxrXBk"
      },
      "source": [
        "res_table_all.tables[0]"
      ],
      "execution_count": null,
      "outputs": []
    },
    {
      "cell_type": "markdown",
      "metadata": {
        "id": "je4D_LbWZMN5"
      },
      "source": [
        "## 2. Регрессия по группам министерств"
      ]
    },
    {
      "cell_type": "code",
      "metadata": {
        "id": "En3BkgZ_ru94"
      },
      "source": [
        "# функция для последовательного добавления объясняющих переменных\n",
        "# и формирования общей таблицы с результатами\n",
        "\n",
        "def fit_regression_models(data):\n",
        "\n",
        "  models = [\n",
        "  #Только пол\n",
        "  'log_monthly_income ~ gender',\n",
        "  #Добавляем семейный статус и наличие детей\n",
        "  'log_monthly_income ~ gender + married + if_children',\n",
        "  #Добавляем министерство и год\n",
        "  'log_monthly_income ~ gender + married + if_children + state_agency_short + year_cat',\n",
        "  #Добавляем должность\n",
        "  'log_monthly_income ~ gender + married + if_children + state_agency_short + year_cat + position_standard',\n",
        "  #Добавляем эффект взаимодействия\n",
        "  'log_monthly_income ~ gender + married + if_children + state_agency_short + year_cat + position_standard + gender*married  + gender*if_children'\n",
        "  ]\n",
        "\n",
        "  #проводим регрессию на всех вариантах моделей\n",
        "  trained_models = list(map(lambda x: ols(x, data=data).fit() , models))\n",
        "\n",
        "  #Формируем таблицу с результатами регрессии без взаимодействия\n",
        "  res_table_no_int = summary_col(trained_models[0:4],\n",
        "                          stars=True, float_format='%0.3f',\n",
        "                           info_dict={'N':lambda x: \"{0:d}\".format(int(x.nobs)),\n",
        "                                      'R2':lambda x: \"{:.3f}\".format(x.rsquared)},\n",
        "                           model_names=['(1)','(2)','(3)', '(4)'])\n",
        "\n",
        "  result = [res_table_no_int, trained_models[3], trained_models[4]]\n",
        "  return result\n",
        "\n"
      ],
      "execution_count": 14,
      "outputs": []
    },
    {
      "cell_type": "markdown",
      "metadata": {
        "id": "9a7owPbRKHXC"
      },
      "source": [
        "Формируем группы согласно классификации, описаной в тексте аналитической записки\n",
        "\n"
      ]
    },
    {
      "cell_type": "code",
      "metadata": {
        "colab": {
          "base_uri": "https://localhost:8080/"
        },
        "id": "jrKJCXgDK4ib",
        "outputId": "a9dc8a2a-0a82-4af1-bf17-bcdbb26a633b"
      },
      "source": [
        "# Группа 1\n",
        "state_list = ['Минэнерго', 'Минфин', 'Минтранс', 'Минприроды']\n",
        "group_1 = servants[servants['state_agency_short'].isin(state_list)]\n",
        "len(group_1)"
      ],
      "execution_count": 15,
      "outputs": [
        {
          "output_type": "execute_result",
          "data": {
            "text/plain": [
              "4587"
            ]
          },
          "metadata": {},
          "execution_count": 15
        }
      ]
    },
    {
      "cell_type": "code",
      "metadata": {
        "colab": {
          "base_uri": "https://localhost:8080/"
        },
        "id": "Okwhncm5LAjE",
        "outputId": "e4078541-926b-4da4-f05e-bd44e1362305"
      },
      "source": [
        "# Группа 2\n",
        "state_list = ['Минвостокразвития', 'Минэкономразвития', 'Минспорт']\n",
        "group_2 = servants[servants['state_agency_short'].isin(state_list)]\n",
        "len(group_2)"
      ],
      "execution_count": 16,
      "outputs": [
        {
          "output_type": "execute_result",
          "data": {
            "text/plain": [
              "3783"
            ]
          },
          "metadata": {},
          "execution_count": 16
        }
      ]
    },
    {
      "cell_type": "code",
      "metadata": {
        "colab": {
          "base_uri": "https://localhost:8080/"
        },
        "id": "i9wK37EgKw_k",
        "outputId": "53bfbea9-e052-40d3-cdaf-0647bceddd0f"
      },
      "source": [
        "# Группа 3\n",
        "state_list = ['Минцифры', 'Минобр', 'Минюст']\n",
        "group_3 = servants[servants['state_agency_short'].isin(state_list)]\n",
        "len(group_3)"
      ],
      "execution_count": 17,
      "outputs": [
        {
          "output_type": "execute_result",
          "data": {
            "text/plain": [
              "2711"
            ]
          },
          "metadata": {},
          "execution_count": 17
        }
      ]
    },
    {
      "cell_type": "code",
      "metadata": {
        "colab": {
          "base_uri": "https://localhost:8080/"
        },
        "id": "u8UvdQO5KcMt",
        "outputId": "49251b8f-a450-4871-8c4e-cc72872fe7a1"
      },
      "source": [
        "# Группа 4\n",
        "state_list = ['Минкультуры', 'Минстрой', 'Минтруд', 'Минздрав', 'Минсельхоз', 'Минпромторг']\n",
        "group_4 = servants[servants['state_agency_short'].isin(state_list)]\n",
        "len(group_4)"
      ],
      "execution_count": 18,
      "outputs": [
        {
          "output_type": "execute_result",
          "data": {
            "text/plain": [
              "6142"
            ]
          },
          "metadata": {},
          "execution_count": 18
        }
      ]
    },
    {
      "cell_type": "markdown",
      "metadata": {
        "id": "5j_QfYU8LFM9"
      },
      "source": [
        "Создаем и тренируем модели для каждой группы"
      ]
    },
    {
      "cell_type": "code",
      "metadata": {
        "id": "mGcfX0nMKrZL"
      },
      "source": [
        "res_table_1, mdl_1_no_int_full, mdl_1_int_full = fit_regression_models(group_1)\n",
        "res_table_2, mdl_2_no_int_full, mdl_2_int_full = fit_regression_models(group_2)\n",
        "res_table_3, mdl_3_no_int_full, mdl_3_int_full = fit_regression_models(group_3)\n",
        "res_table_4, mdl_4_no_int_full, mdl_4_int_full = fit_regression_models(group_4)"
      ],
      "execution_count": 19,
      "outputs": []
    },
    {
      "cell_type": "markdown",
      "metadata": {
        "id": "gdh-X7z2OwvT"
      },
      "source": [
        "Формируем сводную таблицу результатов по всем группам без взаимодействия"
      ]
    },
    {
      "cell_type": "code",
      "metadata": {
        "id": "dhKUPBUgL0Bm"
      },
      "source": [
        "res_table_groups_no_int = summary_col([mdl_1_no_int_full, mdl_2_no_int_full, mdl_3_no_int_full,\n",
        "                                       mdl_4_no_int_full], stars=True, float_format='%0.3f',\n",
        "                                       info_dict={'N':lambda x: \"{0:d}\".format(int(x.nobs)),\n",
        "                             'R2':lambda x: \"{:.3f}\".format(x.rsquared)},\n",
        "                              model_names=['Группа 1', 'Группа 2', 'Группа 3', 'Группа 4'])"
      ],
      "execution_count": 20,
      "outputs": []
    },
    {
      "cell_type": "markdown",
      "metadata": {
        "id": "PCxJoDqYO2qA"
      },
      "source": [
        "Формируем сводную таблицу результатов по всем группам с эффектом взаимодействия"
      ]
    },
    {
      "cell_type": "code",
      "metadata": {
        "id": "4gb1_loNphT7"
      },
      "source": [
        "res_table_groups_int = summary_col([mdl_1_int_full, mdl_2_int_full, mdl_3_int_full,\n",
        "                                    mdl_4_int_full], stars=True, float_format='%0.3f',\n",
        "                                  info_dict={'N':lambda x: \"{0:d}\".format(int(x.nobs)),\n",
        "                             'R2':lambda x: \"{:.3f}\".format(x.rsquared)},\n",
        "                              model_names=['Группа 1', 'Группа 2', 'Группа 3', 'Группа 4'])"
      ],
      "execution_count": 21,
      "outputs": []
    },
    {
      "cell_type": "markdown",
      "metadata": {
        "id": "RhXwgRb4RYxW"
      },
      "source": [
        "**Печатаем результаты регрессионного анализа**"
      ]
    },
    {
      "cell_type": "code",
      "metadata": {
        "id": "YaITKQ3ptCFK"
      },
      "source": [
        "#Группа 1\n",
        "res_table_1.tables[0]"
      ],
      "execution_count": null,
      "outputs": []
    },
    {
      "cell_type": "code",
      "metadata": {
        "id": "CEmGIzzoRiab"
      },
      "source": [
        "#Группа 2\n",
        "res_table_2.tables[0]"
      ],
      "execution_count": null,
      "outputs": []
    },
    {
      "cell_type": "code",
      "metadata": {
        "id": "MMTiqJZ7Rj7S"
      },
      "source": [
        "#Группа 3\n",
        "res_table_3.tables[0]"
      ],
      "execution_count": null,
      "outputs": []
    },
    {
      "cell_type": "code",
      "metadata": {
        "id": "LFk-YhZdRmGI"
      },
      "source": [
        "#Группа 4\n",
        "res_table_4.tables[0]"
      ],
      "execution_count": null,
      "outputs": []
    },
    {
      "cell_type": "code",
      "metadata": {
        "id": "EuTYvjR8Rokk"
      },
      "source": [
        "# Полные модели по всем группам без взаимодействия\n",
        "res_table_groups_no_int.tables[0]"
      ],
      "execution_count": null,
      "outputs": []
    },
    {
      "cell_type": "code",
      "metadata": {
        "id": "WxKtfaDbRzq_"
      },
      "source": [
        "# Полные модели по всем группам со взаимодействием\n",
        "res_table_groups_int.tables[0]"
      ],
      "execution_count": null,
      "outputs": []
    }
  ]
}