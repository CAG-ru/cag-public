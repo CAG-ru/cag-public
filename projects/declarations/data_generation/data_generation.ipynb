{
  "nbformat": 4,
  "nbformat_minor": 0,
  "metadata": {
    "colab": {
      "name": "Датасет декларации_для_публикации_обработка.ipynb\"",
      "provenance": [],
      "collapsed_sections": [
        "Ddbtx2M1VSVg"
      ]
    },
    "kernelspec": {
      "name": "python3",
      "display_name": "Python 3"
    },
    "language_info": {
      "name": "python"
    }
  },
  "cells": [
    {
      "cell_type": "code",
      "metadata": {
        "id": "5r73WmdIrjlI"
      },
      "source": [
        "import pandas as pd\n",
        "import numpy as np\n",
        "from scipy.stats import ttest_ind"
      ],
      "execution_count": null,
      "outputs": []
    },
    {
      "cell_type": "markdown",
      "metadata": {
        "id": "TSxO8iZjUdvR"
      },
      "source": [
        "# 1. Подготовка датасета"
      ]
    },
    {
      "cell_type": "code",
      "metadata": {
        "colab": {
          "base_uri": "https://localhost:8080/"
        },
        "id": "3H2CD5GZ8s4Q",
        "outputId": "ff68dac1-a1dc-4957-b24f-8c461cea6890"
      },
      "source": [
        "# Скачиваем датасет с репозитория ЦПУР на Гитхабе\n",
        "!wget "
      ],
      "execution_count": null,
      "outputs": [
        {
          "output_type": "stream",
          "name": "stdout",
          "text": [
            "wget: missing URL\n",
            "Usage: wget [OPTION]... [URL]...\n",
            "\n",
            "Try `wget --help' for more options.\n"
          ]
        }
      ]
    },
    {
      "cell_type": "code",
      "metadata": {
        "id": "6UjH2cBMthtS",
        "colab": {
          "base_uri": "https://localhost:8080/"
        },
        "outputId": "deca9cbc-07d4-4344-ae93-d1990899cff0"
      },
      "source": [
        "servants = pd.read_csv('declarations_2013_2020_money_pivot.csv', sep = ';')\n",
        "# всего наблюдений в датасете за 2013-2020 гг.\n",
        "len(servants)"
      ],
      "execution_count": null,
      "outputs": [
        {
          "output_type": "execute_result",
          "data": {
            "text/plain": [
              "22201"
            ]
          },
          "metadata": {},
          "execution_count": 180
        }
      ]
    },
    {
      "cell_type": "code",
      "metadata": {
        "id": "Zt_9PBW90N9S"
      },
      "source": [
        "# Убираем ненужные для дальнейшего анализа колонки\n",
        "servants = servants[['state_agency_short', 'year', 'name', 'position', 'position_standard',\n",
        "                     'position_group', 'married', 'gender', 'children', 'extra', 'income_diff_month_const_чиновник']]\n"
      ],
      "execution_count": null,
      "outputs": []
    },
    {
      "cell_type": "code",
      "metadata": {
        "colab": {
          "base_uri": "https://localhost:8080/"
        },
        "id": "fT0jXtHMgiZh",
        "outputId": "35374dc2-c28b-425c-b0f5-7e9126865d4b"
      },
      "source": [
        "# проверяем гендерный баланс датасета со всеми чинониками\n",
        "servants['gender'].value_counts(normalize=True) * 100"
      ],
      "execution_count": null,
      "outputs": [
        {
          "output_type": "execute_result",
          "data": {
            "text/plain": [
              "m               48.583397\n",
              "f               47.371740\n",
              "неопределяем     4.044863\n",
              "Name: gender, dtype: float64"
            ]
          },
          "metadata": {},
          "execution_count": 182
        }
      ]
    },
    {
      "cell_type": "markdown",
      "metadata": {
        "id": "kpLRLSqjaogF"
      },
      "source": [
        "**Готовим несколько варианов датасета для дальнейшего анализа**"
      ]
    },
    {
      "cell_type": "code",
      "metadata": {
        "colab": {
          "base_uri": "https://localhost:8080/"
        },
        "id": "9M6O56J3P_ER",
        "outputId": "388a4dbb-c3bf-406a-e945-b0c982c9bba4"
      },
      "source": [
        "# оставляем только нужные 7 должностей\n",
        "posit = ['директор департамента', 'заместитель директора департамента',\n",
        "         \"начальник отдела\", 'референт', 'помощник федерального министра', 'советник федерального министра',\n",
        "         'заместитель федерального министра']\n",
        "\n",
        "servants_7_pos = servants[servants['position_standard'].isin(posit)]\n",
        "len(servants_7_pos)"
      ],
      "execution_count": null,
      "outputs": [
        {
          "output_type": "execute_result",
          "data": {
            "text/plain": [
              "19645"
            ]
          },
          "metadata": {},
          "execution_count": 183
        }
      ]
    },
    {
      "cell_type": "code",
      "metadata": {
        "id": "t_jaLz_KFZld",
        "colab": {
          "base_uri": "https://localhost:8080/"
        },
        "outputId": "c433f614-0654-4e70-acad-b3d446ce429a"
      },
      "source": [
        "# Убираем данные Минпросвет и Миннауки как непрезентативные\n",
        "mins = ['Мипросвещения', 'Миннауки']\n",
        "servants_7_pos_no_minpros_minnauki = servants_7_pos[~servants_7_pos['state_agency_short'].isin(mins)]\n",
        "len(servants_7_pos_no_minpros_minnauki)"
      ],
      "execution_count": null,
      "outputs": [
        {
          "output_type": "execute_result",
          "data": {
            "text/plain": [
              "19194"
            ]
          },
          "metadata": {},
          "execution_count": 186
        }
      ]
    },
    {
      "cell_type": "code",
      "metadata": {
        "colab": {
          "base_uri": "https://localhost:8080/"
        },
        "id": "tZQ3tQCauP4r",
        "outputId": "4abe8b3e-f39c-421b-e15e-70b6023a834f"
      },
      "source": [
        "# Проверяем гендерный баланс\n",
        "servants_7_pos_no_minpros_minnauki['gender'].value_counts(normalize=True) * 100"
      ],
      "execution_count": null,
      "outputs": [
        {
          "output_type": "execute_result",
          "data": {
            "text/plain": [
              "m               50.182349\n",
              "f               45.962280\n",
              "неопределяем     3.855371\n",
              "Name: gender, dtype: float64"
            ]
          },
          "metadata": {},
          "execution_count": 187
        }
      ]
    },
    {
      "cell_type": "markdown",
      "metadata": {
        "id": "y0TtICYiIpVf"
      },
      "source": [
        "**Очиска датасета для проведения регрессионного анализа**"
      ]
    },
    {
      "cell_type": "code",
      "metadata": {
        "colab": {
          "base_uri": "https://localhost:8080/"
        },
        "id": "6fOd53YpUxKT",
        "outputId": "d0003e19-123c-4c16-b55e-ea6d15343263"
      },
      "source": [
        "#Удаляем чиновников с доходами, содержащими ипотеки, субсидии и прочее\n",
        "servants_7_pos_income = servants_7_pos_no_minpros_minnauki[servants_7_pos_no_minpros_minnauki['extra'] != 'extra']\n",
        "len(servants_7_pos_income)"
      ],
      "execution_count": null,
      "outputs": [
        {
          "output_type": "execute_result",
          "data": {
            "text/plain": [
              "18765"
            ]
          },
          "metadata": {},
          "execution_count": 188
        }
      ]
    },
    {
      "cell_type": "markdown",
      "metadata": {
        "id": "kL5_uwiBuOh6"
      },
      "source": [
        "Обрезаем выбросы снизу"
      ]
    },
    {
      "cell_type": "code",
      "metadata": {
        "id": "4XkLZQ9D2YeD",
        "colab": {
          "base_uri": "https://localhost:8080/"
        },
        "outputId": "089e5c83-da08-4f47-891d-7aa015d3dfd7"
      },
      "source": [
        "# Расчеты сделаны на основе данных, полученных из форм «Обоснования бюджетных\n",
        "# ассигнований на фонд оплаты труда и страховые взносы в государственные внебюджетные фонды\n",
        "# в части работников центрального аппарата федеральных государственных органов» ГИС Электронный бюджет.\n",
        "# Данные были переданы ЦПУР Счетной палатой РФ, в соответствии с решением,\n",
        "# зафиксированным в письме Минфина России от 24.06.2021 № 01-02-02/21-49981.\n",
        "# Данные не могут быть размещены в публичном доступе, поэтому здесь мы приводим\n",
        "# только результаты работы с ними.\n",
        "\n",
        "# Скачиваем из репозитория ЦПУР за Гитхаб данные окладов по годам с медианными значениями по каждой должности\n",
        "# Ниже этого чиновник, отработавший полный год, не может получить заработную плату\n",
        "\n",
        "! wget https://github.com/CAG-ru/cag-public/raw/master/projects/declarations/data/min_oklad.xlsx\n",
        "\n",
        "min_oklad = pd.read_excel('min_oklad.xlsx')"
      ],
      "execution_count": null,
      "outputs": [
        {
          "output_type": "stream",
          "name": "stdout",
          "text": [
            "--2021-12-01 19:51:24--  https://github.com/CAG-ru/cag-public/raw/master/projects/declarations/data/min_oklad.xlsx\n",
            "Resolving github.com (github.com)... 140.82.112.4\n",
            "Connecting to github.com (github.com)|140.82.112.4|:443... connected.\n",
            "HTTP request sent, awaiting response... 302 Found\n",
            "Location: https://raw.githubusercontent.com/CAG-ru/cag-public/master/projects/declarations/data/min_oklad.xlsx [following]\n",
            "--2021-12-01 19:51:24--  https://raw.githubusercontent.com/CAG-ru/cag-public/master/projects/declarations/data/min_oklad.xlsx\n",
            "Resolving raw.githubusercontent.com (raw.githubusercontent.com)... 185.199.108.133, 185.199.109.133, 185.199.110.133, ...\n",
            "Connecting to raw.githubusercontent.com (raw.githubusercontent.com)|185.199.108.133|:443... connected.\n",
            "HTTP request sent, awaiting response... 200 OK\n",
            "Length: 10075 (9.8K) [application/octet-stream]\n",
            "Saving to: ‘min_oklad.xlsx’\n",
            "\n",
            "min_oklad.xlsx      100%[===================>]   9.84K  --.-KB/s    in 0s      \n",
            "\n",
            "2021-12-01 19:51:24 (79.8 MB/s) - ‘min_oklad.xlsx’ saved [10075/10075]\n",
            "\n"
          ]
        }
      ]
    },
    {
      "cell_type": "code",
      "metadata": {
        "id": "Hs9PuyBg2fwL"
      },
      "source": [
        "servants_7_pos_income = servants_7_pos_income.merge(min_oklad, left_on=['year', 'position_standard'],\n",
        "                            right_on = ['year', 'position_standard'], how='left')"
      ],
      "execution_count": null,
      "outputs": []
    },
    {
      "cell_type": "code",
      "metadata": {
        "id": "52WHEeThuEi-"
      },
      "source": [
        "# Размечаем наблюдения, где среднемесячный доход ниже медианной запрплаты из ОБАСА\n",
        "servants_7_pos_income['if_lower'] = np.where(servants_7_pos_income['income_diff_month_const_чиновник'] <=  servants_7_pos_income['month_FOT'], 1, 0)"
      ],
      "execution_count": null,
      "outputs": []
    },
    {
      "cell_type": "code",
      "metadata": {
        "colab": {
          "base_uri": "https://localhost:8080/"
        },
        "id": "WYXc6AK528ei",
        "outputId": "3390cfb1-78b9-497f-bade-89ec83238058"
      },
      "source": [
        "# Количество случаев, когда доход меньше минимального месячного оклада\n",
        "len(servants_7_pos_income[servants_7_pos_income['if_lower'] == 1])"
      ],
      "execution_count": null,
      "outputs": [
        {
          "output_type": "execute_result",
          "data": {
            "text/plain": [
              "649"
            ]
          },
          "metadata": {},
          "execution_count": 192
        }
      ]
    },
    {
      "cell_type": "code",
      "metadata": {
        "id": "q46RniEpHe80"
      },
      "source": [
        "# обрезаем выбросы снизу\n",
        "servants_7_pos_income = servants_7_pos_income[servants_7_pos_income['if_lower'] != 1]"
      ],
      "execution_count": null,
      "outputs": []
    },
    {
      "cell_type": "code",
      "metadata": {
        "colab": {
          "base_uri": "https://localhost:8080/"
        },
        "id": "a_gsEAwf5XZ4",
        "outputId": "13e95f42-d754-4ca2-8305-eef919d39d6c"
      },
      "source": [
        "#Осталось наблюдений\n",
        "len(servants_7_pos_income)"
      ],
      "execution_count": null,
      "outputs": [
        {
          "output_type": "execute_result",
          "data": {
            "text/plain": [
              "18116"
            ]
          },
          "metadata": {},
          "execution_count": 194
        }
      ]
    },
    {
      "cell_type": "markdown",
      "metadata": {
        "id": "edhN_NntLUPm"
      },
      "source": [
        "Обрезаем выбросы сверху"
      ]
    },
    {
      "cell_type": "code",
      "metadata": {
        "id": "6Q5bDXTLv8_D",
        "colab": {
          "base_uri": "https://localhost:8080/"
        },
        "outputId": "8878ff76-e856-4caa-f8fd-db2889b64cb8"
      },
      "source": [
        "# Расчитаем размер дохода для 99% персентиля\n",
        "percentile_99 = servants_7_pos_income['income_diff_month_const_чиновник'].quantile(0.99)\n",
        "percentile_99"
      ],
      "execution_count": null,
      "outputs": [
        {
          "output_type": "execute_result",
          "data": {
            "text/plain": [
              "2047959.2968000022"
            ]
          },
          "metadata": {},
          "execution_count": 195
        }
      ]
    },
    {
      "cell_type": "code",
      "metadata": {
        "colab": {
          "base_uri": "https://localhost:8080/"
        },
        "id": "txHuQSwPrnHY",
        "outputId": "9adaf08e-1e7b-4a1e-c440-75cb229fd463"
      },
      "source": [
        "# 182 наблюдения - выше выбранной границы\n",
        "over = servants_7_pos_income[servants_7_pos_income['income_diff_month_const_чиновник'] > percentile_99]\n",
        "len(over)"
      ],
      "execution_count": null,
      "outputs": [
        {
          "output_type": "execute_result",
          "data": {
            "text/plain": [
              "182"
            ]
          },
          "metadata": {},
          "execution_count": 196
        }
      ]
    },
    {
      "cell_type": "code",
      "metadata": {
        "id": "2kxZtXiBv_WD"
      },
      "source": [
        "# Удалим наблюдения выше 99 персентиля\n",
        "servants_7_pos_income = servants_7_pos_income[servants_7_pos_income['income_diff_month_const_чиновник'] < percentile_99]"
      ],
      "execution_count": null,
      "outputs": []
    },
    {
      "cell_type": "code",
      "metadata": {
        "colab": {
          "base_uri": "https://localhost:8080/"
        },
        "id": "DkEhP1oe0N59",
        "outputId": "08414380-6337-4452-e6be-1c1f2e09f65a"
      },
      "source": [
        "# Количество оставшихся наблюдений\n",
        "len(servants_7_pos_income)"
      ],
      "execution_count": null,
      "outputs": [
        {
          "output_type": "execute_result",
          "data": {
            "text/plain": [
              "17933"
            ]
          },
          "metadata": {},
          "execution_count": 198
        }
      ]
    },
    {
      "cell_type": "markdown",
      "metadata": {
        "id": "jUSD99b8NKiV"
      },
      "source": [
        "Проверим гендерное распределение после обработки"
      ]
    },
    {
      "cell_type": "code",
      "metadata": {
        "colab": {
          "base_uri": "https://localhost:8080/"
        },
        "id": "vOI0WhmAOAfF",
        "outputId": "a998917a-c306-4346-ac07-96f3c7436d51"
      },
      "source": [
        "servants_7_pos_income['gender'].value_counts(normalize=True) * 100"
      ],
      "execution_count": null,
      "outputs": [
        {
          "output_type": "execute_result",
          "data": {
            "text/plain": [
              "m               50.861540\n",
              "f               45.179278\n",
              "неопределяем     3.959181\n",
              "Name: gender, dtype: float64"
            ]
          },
          "metadata": {},
          "execution_count": 199
        }
      ]
    },
    {
      "cell_type": "markdown",
      "metadata": {
        "id": "CNpTVqDEZFbh"
      },
      "source": [
        "Убираем наблюдения с неопределенным полом"
      ]
    },
    {
      "cell_type": "code",
      "metadata": {
        "colab": {
          "base_uri": "https://localhost:8080/"
        },
        "id": "UeneNhCCsGjI",
        "outputId": "c42a397b-df92-496b-825e-dcc803480d35"
      },
      "source": [
        "# оставим только наблюдения, где пол определен\n",
        "servants_7_pos_income_gender = servants_7_pos_income[servants_7_pos_income['gender'] != 'неопределяем']\n",
        "len(servants_7_pos_income_gender)"
      ],
      "execution_count": null,
      "outputs": [
        {
          "output_type": "execute_result",
          "data": {
            "text/plain": [
              "17223"
            ]
          },
          "metadata": {},
          "execution_count": 200
        }
      ]
    },
    {
      "cell_type": "code",
      "metadata": {
        "id": "ZVL4PYbBwHZF"
      },
      "source": [
        "# Сохраняем датасет для оценки gender gap и регрессионного анализа\n",
        "servants_7_pos_income_gender.to_excel('df_declarations_for_regress.xlsx')"
      ],
      "execution_count": null,
      "outputs": []
    },
    {
      "cell_type": "markdown",
      "metadata": {
        "id": "Ddbtx2M1VSVg"
      },
      "source": [
        "# 2. Анализ"
      ]
    },
    {
      "cell_type": "markdown",
      "metadata": {
        "id": "0BYx3SUV8Slm"
      },
      "source": [
        "**Расчет доли женщин по министерствам**"
      ]
    },
    {
      "cell_type": "code",
      "metadata": {
        "colab": {
          "base_uri": "https://localhost:8080/"
        },
        "id": "KEGirV8upwiP",
        "outputId": "1e2ae851-e720-48e0-8615-8f96fcb654d4"
      },
      "source": [
        "# Средняя доля женщин 46%\n",
        "servants_7_pos_no_minpros_minnauki['gender'].value_counts(normalize=True) * 100"
      ],
      "execution_count": null,
      "outputs": [
        {
          "output_type": "execute_result",
          "data": {
            "text/plain": [
              "m               50.182349\n",
              "f               45.962280\n",
              "неопределяем     3.855371\n",
              "Name: gender, dtype: float64"
            ]
          },
          "metadata": {},
          "execution_count": 201
        }
      ]
    },
    {
      "cell_type": "code",
      "metadata": {
        "id": "ue4RrjWOldI4"
      },
      "source": [
        "# вычисляем доли м и ж по министерствам (в среднем по всем годам)\n",
        "gender_share = servants_7_pos_no_minpros_minnauki.groupby(['state_agency_short', 'gender']).size().reset_index()\n",
        "state_count = servants_7_pos_no_minpros_minnauki.groupby(['state_agency_short']).size().reset_index()\n",
        "gender_state = gender_share.merge(state_count, left_on=['state_agency_short'], right_on=['state_agency_short'], right_index=False)\n",
        "\n",
        "gender_state['share'] = round(gender_state['0_x'] / gender_state['0_y'], 3)\n",
        "gender_state = gender_state[gender_state['gender'] != 'неопределяем']\n",
        "gender_state"
      ],
      "execution_count": null,
      "outputs": []
    },
    {
      "cell_type": "markdown",
      "metadata": {
        "id": "f7OpDlycxvqF"
      },
      "source": [
        "**Расчет доли наблюдений с неопределенным полом по министерствам**"
      ]
    },
    {
      "cell_type": "code",
      "metadata": {
        "id": "RcEfCx7SC6fL"
      },
      "source": [
        "no_gender = gender_state.groupby(['state_agency_short'])['share'].sum().reset_index()\n",
        "no_gender['no_gender'] = 1 - no_gender['share']\n",
        "no_gender"
      ],
      "execution_count": null,
      "outputs": []
    },
    {
      "cell_type": "markdown",
      "metadata": {
        "id": "jfilmL0u9qEk"
      },
      "source": [
        "**Без необпределенного пола и с разбивкой на года - динамика доли М и Ж по годам**"
      ]
    },
    {
      "cell_type": "code",
      "metadata": {
        "id": "7BHbbqGJvzDx"
      },
      "source": [
        "servants_no_gender = servants_7_pos_no_minpros_minnauki[servants_7_pos_no_minpros_minnauki['gender'] != 'неопределяем']"
      ],
      "execution_count": null,
      "outputs": []
    },
    {
      "cell_type": "code",
      "metadata": {
        "id": "njk8jkT3v5kU"
      },
      "source": [
        "# делаем расчет с долями м и ж с разбивкой на года\n",
        "gender_share = servants_no_gender.groupby(['gender', 'year']).size().reset_index()\n",
        "year_count = servants_no_gender.groupby(['year']).size().reset_index()\n",
        "gender_year = gender_share.merge(year_count, left_on=['year'], right_on=['year'], right_index=False)\n",
        "\n",
        "gender_year['share'] = round(gender_year['0_x'] / gender_year['0_y'], 3)\n",
        "gender_year"
      ],
      "execution_count": null,
      "outputs": []
    },
    {
      "cell_type": "markdown",
      "metadata": {
        "id": "7aP0aXDpMj4_"
      },
      "source": [
        "**Гендерный баланс по должностям**"
      ]
    },
    {
      "cell_type": "code",
      "metadata": {
        "id": "PeGA-J76MhdT"
      },
      "source": [
        "# доли м и ж по должностям (в среднем по всем годам)\n",
        "gender_share = servants_7_pos_no_minpros_minnauki.groupby(['position_standard', 'gender']).size().reset_index()\n",
        "state_count = servants_7_pos_no_minpros_minnauki.groupby(['position_standard']).size().reset_index()\n",
        "g_pos = gender_share.merge(state_count, left_on=['position_standard'], right_on=['position_standard'], right_index=False)\n",
        "\n",
        "g_pos['share'] = round(g_pos['0_x'] / g_pos['0_y'], 3)\n",
        "g_pos"
      ],
      "execution_count": null,
      "outputs": []
    },
    {
      "cell_type": "markdown",
      "metadata": {
        "id": "CgRmAMxJlN3v"
      },
      "source": [
        "**Гендерный баланс по министерставам и группам**"
      ]
    },
    {
      "cell_type": "code",
      "metadata": {
        "id": "A63U_dGM8V7Q"
      },
      "source": [
        "# доли м и ж по министерствам и группам должностей (в среднем по всем годам)\n",
        "gender_share = servants_7_pos_no_minpros_minnauki.groupby(['state_agency_short',\n",
        "                                                            'gender', 'position_group']).size().reset_index()\n",
        "state_group_count = servants_7_pos_no_minpros_minnauki.groupby(['state_agency_short',\n",
        "                                                                 'position_group']).size().reset_index()\n",
        "gender_group = gender_share.merge(state_group_count, left_on=['state_agency_short', 'position_group'],\n",
        "                             right_on=['state_agency_short', 'position_group'], right_index=False)\n",
        "\n",
        "gender_group['share'] = round(gender_group['0_x'] / gender_group['0_y'], 3)\n",
        "gender_group = gender_group[gender_group['gender'] != 'неопределяем']"
      ],
      "execution_count": null,
      "outputs": []
    },
    {
      "cell_type": "markdown",
      "metadata": {
        "id": "eZitEXFtou_N"
      },
      "source": [
        "**Расчет cоотношения доли Ж на должностях высшей группы к доле Ж на должностях главной группы**"
      ]
    },
    {
      "cell_type": "code",
      "metadata": {
        "id": "nHjOd_RcY1W3"
      },
      "source": [
        "fem = gender_group[gender_group['gender'] == 'f'][['state_agency_short', 'position_group', 'share']].rename(columns={\"share\": \"f_share\"})\n",
        "male = gender_group[gender_group['gender'] == 'm'][['state_agency_short', 'position_group', 'share']].rename(columns={\"share\": \"m_share\"})"
      ],
      "execution_count": null,
      "outputs": []
    },
    {
      "cell_type": "code",
      "metadata": {
        "id": "NWWcH_UuZFiX"
      },
      "source": [
        "group_share = fem.merge(male, left_on=['state_agency_short', 'position_group'],\n",
        "                  right_on=['state_agency_short', 'position_group'], right_index=False, how='left')\n",
        "\n",
        "group_high = group_share[group_share['position_group'] == 'высшая'].rename(columns={\"f_share\": \"high_f_share\", \"m_share\": \"high_m_share\"})\n",
        "group_main = group_share[group_share['position_group'] == 'главная'].rename(columns={\"f_share\": \"main_f_share\", \"m_share\": \"main_m_share\"})\n",
        "\n",
        "gender_index = group_high.merge(group_main, left_on=['state_agency_short'],\n",
        "                                right_on=['state_agency_short'], right_index=False, how='left')\n",
        "\n",
        "gender_index['gender_index'] = gender_index['high_f_share'] / gender_index['main_f_share']\n",
        "gender_index.sort_values('gender_index')"
      ],
      "execution_count": null,
      "outputs": []
    },
    {
      "cell_type": "markdown",
      "metadata": {
        "id": "f-RBXz5Uyn-1"
      },
      "source": [
        "**Гендерный баланс по министерствам, позициям с долей неопределенного пола**"
      ]
    },
    {
      "cell_type": "code",
      "metadata": {
        "id": "7jhz8SkRJptP"
      },
      "source": [
        "# делаем расчет с долями м и ж по министерствам-позициям\n",
        "gender_share_position = servants_7_pos_no_minpros_minnauki.groupby(['state_agency_short', 'gender',\n",
        "                                                                     'position_standard']).size().reset_index()\n",
        "pos_year = servants_7_pos_no_minpros_minnauki.groupby(['state_agency_short',\n",
        "                                                        'position_standard']).size().reset_index()\n",
        "g_pos = pos_year.merge(gender_share_position, left_on=['state_agency_short', 'position_standard'],\n",
        "                        right_on=['state_agency_short', 'position_standard'], right_index=False, how='left')\n",
        "\n",
        "g_pos['share'] = round(g_pos['0_y'] / g_pos['0_x'], 2)\n"
      ],
      "execution_count": null,
      "outputs": []
    },
    {
      "cell_type": "code",
      "metadata": {
        "id": "JE0xRz-iRWGG"
      },
      "source": [
        "g_pos_full = g_pos[['state_agency_short', 'position_standard']].drop_duplicates()"
      ],
      "execution_count": null,
      "outputs": []
    },
    {
      "cell_type": "code",
      "metadata": {
        "id": "Jvt5tKiUT2jv"
      },
      "source": [
        "g_non = g_pos[g_pos['gender'] == 'неопределяем']\n",
        "g_fem = g_pos[g_pos['gender'] == 'f']\n",
        "g_male = g_pos[g_pos['gender'] == 'm']"
      ],
      "execution_count": null,
      "outputs": []
    },
    {
      "cell_type": "code",
      "metadata": {
        "id": "udOjb1SBUKBw"
      },
      "source": [
        "g_pos_non = g_pos_full.merge(g_non, how='left', on=['state_agency_short', 'position_standard'])\n",
        "g_pos_fem = g_pos_full.merge(g_fem, how='left', on=['state_agency_short', 'position_standard'])\n",
        "g_pos_male = g_pos_full.merge(g_male, how='left', on=['state_agency_short', 'position_standard'])"
      ],
      "execution_count": null,
      "outputs": []
    },
    {
      "cell_type": "code",
      "metadata": {
        "id": "6bgCc6zD1Bpr"
      },
      "source": [
        "g_pos_non['gender'] = 'неопределяем'\n",
        "g_pos_fem['gender'] = 'f'\n",
        "g_pos_male['gender'] = 'm'"
      ],
      "execution_count": null,
      "outputs": []
    },
    {
      "cell_type": "code",
      "metadata": {
        "id": "sNBNA-nrUoJf"
      },
      "source": [
        "g_pos_all = pd.concat([g_pos_non, g_pos_fem, g_pos_male])\n",
        "g_pos_all['share'] = g_pos_all['share'].fillna(0)\n",
        "g_pos_all"
      ],
      "execution_count": null,
      "outputs": []
    },
    {
      "cell_type": "markdown",
      "metadata": {
        "id": "usGXafsnDyDM"
      },
      "source": [
        "**Расчет гендерного разрыва в доходах по министерствам**"
      ]
    },
    {
      "cell_type": "code",
      "metadata": {
        "id": "ibZjBA3MIbD3"
      },
      "source": [
        "# функция расчета разницы в средних по министерствам\n",
        "\n",
        "def states_means(df):\n",
        "\n",
        "  list_states = list(df['state_agency_short'].unique())\n",
        "\n",
        "  column_names = ['state_mean', 'fem_mean', 'male_mean', 'diff', 'pvalue', 'significance', 'gender_gap']\n",
        "  res_df_mean = pd.DataFrame(columns = column_names, index = list_states)\n",
        "                        \n",
        "  for i in list_states:\n",
        "    state_mean = df[df['state_agency_short'] == i]['income_diff_month_const_чиновник'].mean()\n",
        "    fem = df[(df['gender'] == 'f') & (df['state_agency_short'] == i)]\n",
        "    fem_mean = fem['income_diff_month_const_чиновник'].mean()\n",
        "    male = df[(df['gender'] == 'm') & (df['state_agency_short'] == i)]\n",
        "    male_mean = male['income_diff_month_const_чиновник'].mean()\n",
        "    diff = male_mean - fem_mean\n",
        "    gender_gap = 1 - round(fem_mean / male_mean, 3)\n",
        "\n",
        "    t_res = ttest_ind(fem['income_diff_month_const_чиновник'],\n",
        "                      male['income_diff_month_const_чиновник'], equal_var=False)\n",
        "    pvalue = t_res.pvalue\n",
        "\n",
        "    if pvalue <= 0.05: \n",
        "      significance = 1\n",
        "    else:\n",
        "      significance = 0\n",
        "\n",
        "    res_df_mean.loc[i] = [state_mean, fem_mean, male_mean, diff, pvalue, significance, gender_gap]\n",
        "\n",
        "  return res_df_mean"
      ],
      "execution_count": null,
      "outputs": []
    },
    {
      "cell_type": "code",
      "metadata": {
        "id": "DBvP9VHJK_Pe"
      },
      "source": [
        "res = states_means(servants_7_pos_income_gender)\n",
        "res.sort_values('diff')"
      ],
      "execution_count": null,
      "outputs": []
    }
  ]
}