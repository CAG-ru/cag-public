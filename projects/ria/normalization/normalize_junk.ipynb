{
 "cells": [
  {
   "cell_type": "raw",
   "metadata": {
    "jupyter": {
     "outputs_hidden": true
    },
    "tags": []
   },
   "source": [
    "!pip3 install gspread, oauth2client"
   ]
  },
  {
   "cell_type": "code",
   "execution_count": 1,
   "metadata": {},
   "outputs": [],
   "source": [
    "import os\n",
    "import re\n",
    "\n",
    "import pandas as pd\n",
    "\n",
    "from orv_cleanup_utils import clean_up\n",
    "\n",
    "pd.set_option('display.max_columns', None)"
   ]
  },
  {
   "cell_type": "code",
   "execution_count": 2,
   "metadata": {},
   "outputs": [],
   "source": [
    "path = '/home/common/regulation_data/parsed_reports/'"
   ]
  },
  {
   "cell_type": "code",
   "execution_count": 3,
   "metadata": {},
   "outputs": [],
   "source": [
    "# main_df – таблица, куда сложены заполнения one-to-one\n",
    "main_df = pd.read_csv(path + 'main_df.csv')"
   ]
  },
  {
   "cell_type": "code",
   "execution_count": 4,
   "metadata": {},
   "outputs": [],
   "source": [
    "# загрузка one-to-many таблиц\n",
    "otm_tables_fnames = sorted([fn for fn in os.listdir(path) if not (fn.startswith('main') or fn.startswith('.'))])\n",
    "otm_tables = {fn[:-4]: pd.read_csv(path + fn) for fn in otm_tables_fnames}\n",
    "goals_df = otm_tables['goals']\n",
    "groups_df = otm_tables['groups']\n",
    "expenses_df = otm_tables['expenses']\n",
    "group_changes_df = otm_tables['group_changes']\n",
    "group_expenses_df = otm_tables['group_expenses']\n",
    "risks_df = otm_tables['risks']\n",
    "necessary_measures_df = otm_tables['neccessary_measures']\n",
    "cancel_duties_df  = otm_tables['cancel_duties']\n",
    "new_functions_df = otm_tables['new_functions']"
   ]
  },
  {
   "cell_type": "markdown",
   "metadata": {},
   "source": [
    "## Забираем мусорные заполнения из гуглодиска"
   ]
  },
  {
   "cell_type": "code",
   "execution_count": 5,
   "metadata": {},
   "outputs": [],
   "source": [
    "import gspread\n",
    "\n",
    "from oauth2client.service_account import ServiceAccountCredentials\n",
    "\n",
    "scope = ['https://spreadsheets.google.com/feeds',\n",
    "             'https://www.googleapis.com/auth/drive']\n",
    "credentials = ServiceAccountCredentials \\\n",
    "        .from_json_keyfile_name('cpur-project.json', scope)\n",
    "client = gspread.authorize(credentials)\n",
    "\n",
    "sheet = client.open('ОРВ: мусорные заполнения')"
   ]
  },
  {
   "cell_type": "code",
   "execution_count": 6,
   "metadata": {},
   "outputs": [],
   "source": [
    "import json \n",
    "\n",
    "# Забираем маппинг названий в датафрейме и в экселевском файле\n",
    "with open('junk/mapping_fields.json') as fp:\n",
    "    all_fields = json.load(fp)"
   ]
  },
  {
   "cell_type": "code",
   "execution_count": 7,
   "metadata": {},
   "outputs": [],
   "source": [
    "import time\n",
    "import os\n",
    "\n",
    "update = False\n",
    "\n",
    "# Получаем значения мусорных заполнений по экспертным оценкам\n",
    "# из Гугл.Диска и сохраняем локально\n",
    "if os.path.exists('junk/junk_by_field.json') and update is False:\n",
    "    with open('junk/junk_by_field.json', 'r') as fp:\n",
    "        junk_by_field = json.load(fp)\n",
    "else:\n",
    "    junk_by_field = {}\n",
    "    for table in all_fields.values():\n",
    "        for sheet_name in table.keys():\n",
    "            junk = set()\n",
    "            for _ in sheet.worksheet(sheet_name + '_freq').get_all_values():\n",
    "                if _[2].strip() == '0':\n",
    "                    junk.add(_[0])\n",
    "            for _ in sheet.worksheet(sheet_name + '_short').get_all_values():\n",
    "                if _[2].strip() == '0':\n",
    "                    junk.add(_[0])\n",
    "            junk_by_field[sheet_name] = list(junk)\n",
    "            time.sleep(3)\n",
    "    with open('junk/junk_by_field.json', 'w') as fp:\n",
    "        json.dump(junk_by_field, fp)"
   ]
  },
  {
   "cell_type": "markdown",
   "metadata": {},
   "source": [
    "## Функция обработки датафрейма"
   ]
  },
  {
   "cell_type": "code",
   "execution_count": 8,
   "metadata": {},
   "outputs": [],
   "source": [
    "def fill_df_info(dataframe, df_name):\n",
    "    \"\"\"\n",
    "    Функция принимает датафрейм, сравнивает значение нужных полей\n",
    "    с мусорными, проставляет соответствующую оценку\n",
    "    и возвращает новый датафрейм\n",
    "    \"\"\"\n",
    "    if df_name not in all_fields.keys():\n",
    "        print('No such table in dataset.')\n",
    "        return\n",
    "    \n",
    "    if 'header: id' in dataframe.columns:\n",
    "        id_column = 'header: id'\n",
    "    else:\n",
    "        id_column = 'id'\n",
    "    \n",
    "    result_df = pd.DataFrame()\n",
    "    for index, row in dataframe.iterrows():\n",
    "        result_df.loc[index, id_column] = row[id_column]\n",
    "        for short, long in all_fields.get(df_name).items():    \n",
    "            value = dataframe.loc[index, long]\n",
    "            value = clean_up(value)\n",
    "\n",
    "            # Проверяем, есть ли текущее вхождение \n",
    "            # в \"мусоре\" для этого поляgoals@timing\n",
    "            junk_set = junk_by_field.get(short)\n",
    "            if junk_set is not None and value in junk_set:\n",
    "                valid = 0\n",
    "            else:        \n",
    "                valid = 1\n",
    "\n",
    "            result_df.loc[index, short] = value\n",
    "            result_df.loc[index, str(short + '_valid')] = valid\n",
    "    return result_df"
   ]
  },
  {
   "cell_type": "markdown",
   "metadata": {},
   "source": [
    "### Получаем обработанный основной датафрейм"
   ]
  },
  {
   "cell_type": "code",
   "execution_count": 9,
   "metadata": {},
   "outputs": [],
   "source": [
    "junk_main_df = fill_df_info(main_df, 'main')"
   ]
  },
  {
   "cell_type": "markdown",
   "metadata": {},
   "source": [
    "### Получаем вспомогательные датафреймы"
   ]
  },
  {
   "cell_type": "code",
   "execution_count": 10,
   "metadata": {
    "tags": []
   },
   "outputs": [],
   "source": [
    "for _ in otm_tables.keys():\n",
    "    if _ in all_fields.keys():\n",
    "        df = otm_tables.get(_)\n",
    "        result = fill_df_info(df, _)\n",
    "#         result.to_excel(f'junk_dfs/junk_{_}_df.xlsx', header=True)"
   ]
  },
  {
   "cell_type": "markdown",
   "metadata": {},
   "source": [
    "## Получаем информационные поля из базы "
   ]
  },
  {
   "cell_type": "code",
   "execution_count": 11,
   "metadata": {},
   "outputs": [],
   "source": [
    "from datetime import date\n",
    "import pandas as pd\n",
    "import psycopg2\n",
    "\n",
    "conn = psycopg2.connect(\n",
    "    host=\"130.193.43.155\",\n",
    "    database=\"orv_reports\",\n",
    "    user=\"reports_master\",\n",
    "    password=\"master_reports\")"
   ]
  },
  {
   "cell_type": "code",
   "execution_count": 12,
   "metadata": {},
   "outputs": [],
   "source": [
    "c = conn.cursor()\n",
    "statement = \"SELECT grid.projectid, grid.date, grid.department, grid.okved, grid.regulatoryimpact FROM grid WHERE grid.procedure='Оценка регулирующего воздействия'\"\n",
    "c.execute(statement)\n",
    "orv_info = c.fetchall()\n",
    "c.close()\n",
    "\n",
    "orv_info = pd.DataFrame(orv_info, columns=['projectid', 'date', 'department', 'okved', 'impact'])"
   ]
  },
  {
   "cell_type": "code",
   "execution_count": 13,
   "metadata": {},
   "outputs": [],
   "source": [
    "def date_to_year(date):\n",
    "    matches = re.findall('\\d{4}', str(date))\n",
    "    if len(matches) > 0:\n",
    "        return matches[0]\n",
    "    else:\n",
    "        return ''"
   ]
  },
  {
   "cell_type": "code",
   "execution_count": 14,
   "metadata": {
    "tags": []
   },
   "outputs": [
    {
     "data": {
      "text/html": [
       "<div>\n",
       "<style scoped>\n",
       "    .dataframe tbody tr th:only-of-type {\n",
       "        vertical-align: middle;\n",
       "    }\n",
       "\n",
       "    .dataframe tbody tr th {\n",
       "        vertical-align: top;\n",
       "    }\n",
       "\n",
       "    .dataframe thead th {\n",
       "        text-align: right;\n",
       "    }\n",
       "</style>\n",
       "<table border=\"1\" class=\"dataframe\">\n",
       "  <thead>\n",
       "    <tr style=\"text-align: right;\">\n",
       "      <th></th>\n",
       "      <th>projectid</th>\n",
       "      <th>date</th>\n",
       "      <th>department</th>\n",
       "      <th>okved</th>\n",
       "      <th>impact</th>\n",
       "    </tr>\n",
       "  </thead>\n",
       "  <tbody>\n",
       "    <tr>\n",
       "      <th>0</th>\n",
       "      <td>02/04/06-21/00116602</td>\n",
       "      <td>2021</td>\n",
       "      <td>Минэкономразвития России</td>\n",
       "      <td>Корпоративное управление</td>\n",
       "      <td>Средняя</td>\n",
       "    </tr>\n",
       "  </tbody>\n",
       "</table>\n",
       "</div>"
      ],
      "text/plain": [
       "              projectid  date                department  \\\n",
       "0  02/04/06-21/00116602  2021  Минэкономразвития России   \n",
       "\n",
       "                      okved   impact  \n",
       "0  Корпоративное управление  Средняя  "
      ]
     },
     "execution_count": 14,
     "metadata": {},
     "output_type": "execute_result"
    }
   ],
   "source": [
    "orv_info['date'] = orv_info['date'].apply(date_to_year)\n",
    "orv_info.head(1)"
   ]
  },
  {
   "cell_type": "markdown",
   "metadata": {},
   "source": [
    "### Присоединяем поля из базы к мусорным заполнениям"
   ]
  },
  {
   "cell_type": "code",
   "execution_count": 15,
   "metadata": {},
   "outputs": [],
   "source": [
    "junk_main_df = orv_info.merge(junk_main_df, right_on='header: id', left_on='projectid')\n",
    "junk_main_df = junk_main_df.drop(columns=['header: id'])"
   ]
  },
  {
   "cell_type": "code",
   "execution_count": null,
   "metadata": {},
   "outputs": [],
   "source": [
    "# junk_main_df.to_excel('junk/orv_info.xlsx', header=True)"
   ]
  },
  {
   "cell_type": "code",
   "execution_count": null,
   "metadata": {},
   "outputs": [],
   "source": []
  }
 ],
 "metadata": {
  "kernelspec": {
   "display_name": "Python 3",
   "language": "python",
   "name": "python3"
  },
  "language_info": {
   "codemirror_mode": {
    "name": "ipython",
    "version": 3
   },
   "file_extension": ".py",
   "mimetype": "text/x-python",
   "name": "python",
   "nbconvert_exporter": "python",
   "pygments_lexer": "ipython3",
   "version": "3.8.5"
  }
 },
 "nbformat": 4,
 "nbformat_minor": 4
}
