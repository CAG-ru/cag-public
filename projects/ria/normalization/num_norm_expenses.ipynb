{
 "cells": [
  {
   "cell_type": "code",
   "execution_count": 1,
   "id": "3163800a",
   "metadata": {},
   "outputs": [],
   "source": [
    "import pandas as pd\n",
    "import re\n",
    "from orv_cleanup_utils import *\n",
    "import numpy as np"
   ]
  },
  {
   "cell_type": "code",
   "execution_count": 3,
   "id": "4bd57c47",
   "metadata": {},
   "outputs": [],
   "source": [
    "pd.set_option('display.max_rows', None)\n",
    "pd.set_option('display.max_colwidth', None)"
   ]
  },
  {
   "cell_type": "code",
   "execution_count": 2,
   "id": "80a1b9a1",
   "metadata": {},
   "outputs": [
    {
     "data": {
      "text/plain": [
       "dict_keys(['0_business', '1_business', '2_business', 'cancel_duties', 'expenses', 'goals', 'group_changes', 'group_expenses', 'groups', 'kpi', 'neccessary_measures', 'new_functions', 'notification_info', 'public_discussion', 'risks'])"
      ]
     },
     "execution_count": 2,
     "metadata": {},
     "output_type": "execute_result"
    }
   ],
   "source": [
    "data_dir = '/home/common/regulation_data/parsed_reports/'\n",
    "main_df = pd.read_csv(data_dir + 'main_df.csv')\n",
    "\n",
    "otm_tables_fnames = sorted([fn for fn in os.listdir(data_dir) if not fn.startswith('main')])\n",
    "otm_tables = {fn[:-4]: pd.read_csv(data_dir + fn) for fn in otm_tables_fnames}\n",
    "otm_tables.keys()"
   ]
  },
  {
   "cell_type": "code",
   "execution_count": 5,
   "id": "6cac2e27",
   "metadata": {},
   "outputs": [],
   "source": [
    "def is_empty(text):\n",
    "    if text.replace('\\r', '').replace('\\n', '').strip() == '' \\\n",
    "            or text == '' or text == 'nan':\n",
    "        return True\n",
    "    return False\n",
    "\n",
    "def is_hyphens(text):\n",
    "    if text.replace('-', '').strip() == '':\n",
    "        return True \n",
    "    return False\n",
    "\n",
    "\n",
    "def is_underscores(text):\n",
    "    if text.replace('_', '').strip()  == '':\n",
    "        return True\n",
    "    return False\n",
    "\n",
    "\n",
    "def is_junk(text):\n",
    "    return is_empty(text) or is_hyphens(text) or is_underscores(text)\n",
    "\n",
    "\n",
    "# Точка входа дворника\n",
    "def clean_up(text):\n",
    "    text = str(text)\n",
    "    text = text.strip()\n",
    "    text = text.lower()\n",
    "    text = text.replace('(место для текстового описания)', '')\n",
    "    if is_junk(text):\n",
    "         return 0\n",
    "        \n",
    "    #text = text.rstrip('.')\n",
    "    text = text.replace('«', '\"').replace('»', '\"')\n",
    "    text = text.replace('\\t', '').replace('\\r\\n', '')\n",
    "    return text"
   ]
  },
  {
   "cell_type": "code",
   "execution_count": 6,
   "id": "40e0c3cc",
   "metadata": {},
   "outputs": [],
   "source": [
    "expenses = otm_tables['expenses']\n",
    "group_expenses = otm_tables['group_expenses']"
   ]
  },
  {
   "cell_type": "markdown",
   "id": "f322c84e",
   "metadata": {},
   "source": [
    "## Описание и оценка видов расходов (доходов)"
   ]
  },
  {
   "cell_type": "code",
   "execution_count": 7,
   "id": "ba5fc670",
   "metadata": {},
   "outputs": [],
   "source": [
    "exprev_est = group_expenses['Описание и оценка видов расходов (доходов)']\n",
    "exprev_est = exprev_est.apply(clean_up)"
   ]
  },
  {
   "cell_type": "code",
   "execution_count": 9,
   "id": "bc1ff1f3",
   "metadata": {},
   "outputs": [],
   "source": [
    "def rouble_norm (s):\n",
    "    s = s.replace(u'\\xa0', u' ')\n",
    "    s = s.replace('рублей','р.')\n",
    "    s = s.replace('руб.','р.')\n",
    "    s = s.replace('руб','р.')\n",
    "    s = re.sub(r'\\d+\\,(\\bр\\b)\\.', 'р.', s)\n",
    "    s = re.sub(r'\\,+\\d{2}[\\bр\\b]\\.', 'р.', s)\n",
    "    s = re.sub(r'\\,\\s\\d{2}\\s\\bр\\b', 'р.', s) \n",
    "    s = re.sub(r'\\,\\d{2}\\s[\\bр\\b]\\.', 'р.', s) \n",
    "    s = re.sub(r'\\,\\d{2}\\s\\s\\bр\\b\\.', 'р.', s) \n",
    "    s = s.replace('миллиона', 'млн')\n",
    "    return (s)\n",
    "\n",
    "def let_to_num (s):\n",
    "    s = s.replace('пятидесяти','50')\n",
    "    s = s.replace('десяти','10')\n",
    "    s = s.replace('трехсот','300')\n",
    "    if re.search(r'\\bодного\\b\\s+\\d', s):\n",
    "        s = s.replace('одного', '1')\n",
    "    s = s.replace('2)','').replace('3)','')\n",
    "    return (s)\n",
    "\n",
    "def remove_range (s):\n",
    "    s = re.sub(r'\\d+\\-', '', s)\n",
    "    return (s)\n",
    "\n",
    "def remove_dot_com (s):\n",
    "    s = re.sub(\"[,.]\",'', s)\n",
    "    s = re.sub(r'(\\d)\\s+(\\d)', r'\\1\\2', s)\n",
    "    return (s)\n",
    "\n",
    "def extract_num (s):\n",
    "    s = str(s).replace(' р','р')\n",
    "    s = re.findall(r'\\d+[\\bр\\b]', s)\n",
    "    s = \"\".join(s)\n",
    "    s = s[:-1]\n",
    "    return (s)\n",
    "\n",
    "def let_converter (s):\n",
    "    new_text = ''\n",
    "    s = s.replace(' млрд', 'млрд')\n",
    "    s = s.replace(' млн', 'млн')\n",
    "    s = s.replace(' тысяча','тыс').replace(' тысяч','тыс').replace(' тыс', 'тыс')\n",
    "    for word in s.split(' '):\n",
    "        word = word.replace('трлн','000000000000')\n",
    "        if re.search(r'\\d\\b[\\,\\.]\\b(\\d)млрд', word):\n",
    "            word = word.replace('млрд','00000000')\n",
    "        elif re.search(r'\\d\\b[\\,\\.]\\b(\\d\\d)млрд', word):\n",
    "            word = word.replace('млрд','0000000')\n",
    "        elif re.search(r'\\d\\b[\\,\\.]\\b(\\d\\d\\d)млрд', word):\n",
    "            word = word.replace('млрд','000000')\n",
    "        elif re.search(r'(0)[\\,\\.]\\d\\d\\bмлрд\\b', s): \n",
    "            s = s.replace('млрд','0000000')\n",
    "        else:\n",
    "            word = word.replace('млрд','000000000')\n",
    "        if re.search(r'\\d\\b[\\,\\.]\\b(\\d)млн', word):\n",
    "            word = word.replace('млн','00000')\n",
    "        elif re.search(r'\\d\\b[\\,\\.]\\b(\\d\\d)млн', word):\n",
    "            word = word.replace('млн','0000')\n",
    "        elif re.search(r'\\d\\b[\\,\\.]\\b(\\d\\d\\d)млн', word):\n",
    "            word = word.replace('млн','000')\n",
    "        elif re.search(r'\\d[\\,\\.](\\s)\\d{2}\\s+млн', word): \n",
    "            word = word.replace('млн','0000') \n",
    "        else:\n",
    "            word = word.replace('млн','000000')\n",
    "        if re.search(r'\\d\\b[\\,\\.]\\b(\\d)тыс', word):\n",
    "            word = word.replace('тыс','00')\n",
    "        elif re.search(r'\\d\\b[\\,\\.]\\b(\\d\\d)тыс', word):\n",
    "            word = word.replace('тыс','0')\n",
    "        else:\n",
    "            word = word.replace('тыс','000')\n",
    "        new_text += word + ' '\n",
    "    return (new_text)"
   ]
  },
  {
   "cell_type": "code",
   "execution_count": 10,
   "id": "f7d17e9b",
   "metadata": {},
   "outputs": [],
   "source": [
    "exprev_est = group_expenses['Описание и оценка видов расходов (доходов)']\n",
    "\n",
    "exprev_est = exprev_est.astype(str)\n",
    "exprev_est = exprev_est.apply(rouble_norm)\n",
    "exprev_est = exprev_est.apply(let_converter)\n",
    "exprev_est = exprev_est.apply(let_to_num)\n",
    "exprev_est = exprev_est.apply(remove_dot_com)\n",
    "\n",
    "exprev_est = exprev_est.apply(extract_num)"
   ]
  },
  {
   "cell_type": "code",
   "execution_count": 30,
   "id": "849366e3",
   "metadata": {},
   "outputs": [],
   "source": [
    "exprev_df = pd.DataFrame({'id':  group_expenses['id'], 'exprev': exprev_est})\n",
    "exprev_df['exprev'] = exprev_df['exprev'].replace('3500','').replace('100000р1000','').replace('300000','').replace('7500р3500','')\n",
    "exprev_df['exprev'] = exprev_df['exprev'].replace('25000000000','').replace('3000р40900000','40900000')"
   ]
  },
  {
   "cell_type": "code",
   "execution_count": 31,
   "id": "953de70a",
   "metadata": {},
   "outputs": [],
   "source": [
    "exprev_otm = exprev_df.assign(exprev = exprev_df['exprev'].str.split('р')).explode('exprev')\n",
    "exprev_otm['exprev'] = exprev_otm['exprev'].replace('', np.NaN)\n",
    "exprev_otm['exprev'] = exprev_otm['exprev'].astype('float').astype('Int64')"
   ]
  },
  {
   "cell_type": "markdown",
   "id": "23540a6c",
   "metadata": {},
   "source": [
    "## Количественная оценка расходов (возможных поступлений) \n",
    "### Единовременные расходы в год возникновения"
   ]
  },
  {
   "cell_type": "code",
   "execution_count": 14,
   "id": "d1bcde6d",
   "metadata": {},
   "outputs": [],
   "source": [
    "onetime_exp = expenses['Единовременные расходы в год возникновения'] \n",
    "onetime_exp = onetime_exp.replace('0','0 р.')\n",
    "onetime_exp = onetime_exp.apply(clean_up)"
   ]
  },
  {
   "cell_type": "code",
   "execution_count": 15,
   "id": "a52a04f2",
   "metadata": {},
   "outputs": [],
   "source": [
    "onetime_exp = onetime_exp.astype(str)\n",
    "onetime_exp = onetime_exp.apply(rouble_norm)\n",
    "onetime_exp = onetime_exp.apply(let_converter)\n",
    "onetime_exp = onetime_exp.apply(let_to_num)\n",
    "onetime_exp = onetime_exp.apply(remove_dot_com)\n",
    "\n",
    "onetime_exp = onetime_exp.apply(extract_num)"
   ]
  },
  {
   "cell_type": "code",
   "execution_count": 32,
   "id": "aad18b2a",
   "metadata": {},
   "outputs": [],
   "source": [
    "onetime_df = pd.DataFrame({'id':  expenses['id'], 'onetime': onetime_exp})\n",
    "onetime_df['onetime'] = onetime_df['onetime'].replace('0000','0').replace('000','0').replace('0000000','0').replace('38930','2530450')\n",
    "onetime_df['onetime'] = onetime_df['onetime'].replace('219024р313582','219024р313582р367397').replace('18236000000','182360000')\n",
    "onetime_df['onetime'] = onetime_df['onetime'].replace('000000р136659800400р2000000р2000000р60651755700','1000000р2000000')\n",
    "onetime_df['onetime'] = onetime_df['onetime'].replace('190000000','140000000р190000000р').replace('105000р40000р2100','0')"
   ]
  },
  {
   "cell_type": "code",
   "execution_count": 33,
   "id": "f4b6126b",
   "metadata": {},
   "outputs": [],
   "source": [
    "onetime_exp_otm = onetime_df.assign(onetime = onetime_df['onetime'].str.split('р')).explode('onetime')\n",
    "onetime_exp_otm['onetime'] = onetime_exp_otm['onetime'].replace('', np.NaN)\n",
    "onetime_exp_otm['onetime'] = onetime_exp_otm['onetime'].astype('float').astype('Int64')"
   ]
  },
  {
   "cell_type": "markdown",
   "id": "5920ee5c",
   "metadata": {},
   "source": [
    "### Периодические расходы за период"
   ]
  },
  {
   "cell_type": "code",
   "execution_count": 20,
   "id": "e06ea707",
   "metadata": {},
   "outputs": [],
   "source": [
    "period_exp = expenses['Периодические расходы за период'] \n",
    "period_exp = period_exp.replace('0,0','0 р.').replace('0,00','0 р.').replace('0.00','0 р.')\n",
    "period_exp = period_exp.apply(clean_up)"
   ]
  },
  {
   "cell_type": "code",
   "execution_count": 21,
   "id": "d6e58996",
   "metadata": {},
   "outputs": [],
   "source": [
    "period_exp = period_exp.astype(str)\n",
    "period_exp = period_exp.apply(rouble_norm)\n",
    "period_exp = period_exp.apply(let_converter)\n",
    "period_exp = period_exp.apply(let_to_num)\n",
    "period_exp = period_exp.apply(remove_dot_com)\n",
    "\n",
    "period_exp = period_exp.apply(extract_num)"
   ]
  },
  {
   "cell_type": "code",
   "execution_count": 36,
   "id": "87194076",
   "metadata": {},
   "outputs": [],
   "source": [
    "period_df = pd.DataFrame({'id':  expenses['id'], 'period': period_exp})\n",
    "period_df['period'] = period_df['period'].replace('552000000р29220560','5520000р29220560').replace('0000','0')\n",
    "period_df['period'] = period_df['period'].replace('000','0').replace('0000000','0').replace('25000000000','21000000000р25000000000')\n",
    "period_df['period'] = period_df['period'].replace('500р28595320','28595320')"
   ]
  },
  {
   "cell_type": "code",
   "execution_count": 37,
   "id": "c376cb01",
   "metadata": {},
   "outputs": [],
   "source": [
    "period_exp_otm = period_df.assign(period = period_df['period'].str.split('р')).explode('period')\n",
    "period_exp_otm['period'] = period_exp_otm['period'].replace('', np.NaN)\n",
    "period_exp_otm['period'] = period_exp_otm['period'].astype('float').astype('Int64')"
   ]
  },
  {
   "cell_type": "markdown",
   "id": "3f902e3a",
   "metadata": {},
   "source": [
    "### Возможные поступления за период"
   ]
  },
  {
   "cell_type": "code",
   "execution_count": 169,
   "id": "94bca316",
   "metadata": {},
   "outputs": [],
   "source": [
    "poss_receipt = expenses['Возможные поступления за период']\n",
    "poss_receipt = poss_receipt.replace('0,0','0 р.').replace('0,00','0 р.').replace('0.00','0 р.').replace('0','0 р.')\n",
    "poss_receipt = poss_receipt.replace('12 631 000 (поступления в бюджет от штрафов за нарушения лицензионных требований)','12631000 р.')\n",
    "poss_receipt = poss_receipt.replace('50 млн.  рублей','50000000 р.').replace('478 881 000,00 (за 1 год)','478881000 р.')\n",
    "poss_receipt = poss_receipt.replace('1000000 в год','1000000 р.').replace('262906,7','262906 р.').replace('300 тысяч - 5 млн','300000 р.')\n",
    "poss_receipt = poss_receipt.apply(clean_up)"
   ]
  },
  {
   "cell_type": "code",
   "execution_count": 170,
   "id": "848a5855",
   "metadata": {},
   "outputs": [],
   "source": [
    "poss_receipt = poss_receipt.astype(str)\n",
    "poss_receipt = poss_receipt.apply(rouble_norm)\n",
    "poss_receipt = poss_receipt.apply(let_converter)\n",
    "poss_receipt = poss_receipt.apply(let_to_num)\n",
    "poss_receipt = poss_receipt.apply(remove_dot_com)\n",
    "\n",
    "poss_receipt = poss_receipt.apply(extract_num)"
   ]
  },
  {
   "cell_type": "code",
   "execution_count": 173,
   "id": "89dce64c",
   "metadata": {},
   "outputs": [],
   "source": [
    "poss_rec_df = pd.DataFrame({'id':  expenses['id'], 'poss_rec': poss_receipt})\n",
    "poss_rec_df['poss_rec'] = poss_rec_df['poss_rec'].replace('000','0').replace('350','').replace('39000','').replace('3500','')\n",
    "poss_rec_df['poss_rec'] = poss_rec_df['poss_rec'].replace('55600000000','55600000000р87800000000').replace('3000','')\n",
    "poss_rec_df['poss_rec'] = poss_rec_df['poss_rec'].replace('118000000000291000000','118291000000')\n",
    "poss_rec_df['poss_rec'] = poss_rec_df['poss_rec'].replace('1500р90000000','90000000')\n",
    "poss_rec_df['poss_rec'] = poss_rec_df['poss_rec'].replace('190000000','140000000р190000000р90000000р110000000р')\n",
    "poss_rec_df['poss_rec'] = poss_rec_df['poss_rec'].replace('300000','300000р5000000р') "
   ]
  },
  {
   "cell_type": "code",
   "execution_count": 179,
   "id": "8ddef039",
   "metadata": {},
   "outputs": [],
   "source": [
    "poss_rec_otm = poss_rec_df.assign(poss_rec = poss_rec_df['poss_rec'].str.split('р')).explode('poss_rec')\n",
    "poss_rec_otm['poss_rec'] = poss_rec_otm['poss_rec'].replace('', np.NaN)\n",
    "poss_rec_otm['poss_rec'] = poss_rec_otm['poss_rec'].astype('float').astype('Int64')"
   ]
  },
  {
   "cell_type": "code",
   "execution_count": 187,
   "id": "47ea33e8",
   "metadata": {},
   "outputs": [],
   "source": [
    "exprev_otm = exprev_otm.rename(columns = {\"exprev\": \"Описание и оценка видов расходов (доходов) (руб)\"})\n",
    "onetime_exp_otm = onetime_exp_otm.rename(columns = {\"onetime\": \"Единовременные расходы в год возникновения (руб)\"})\n",
    "period_exp_otm = period_exp_otm.rename(columns = {\"period\": \"Периодические расходы за период (руб)\"})\n",
    "poss_rec_otm = poss_rec_otm.rename(columns = {\"poss_rec\": \"Возможные поступления за период (руб)\"})"
   ]
  }
 ],
 "metadata": {
  "kernelspec": {
   "display_name": "Python 3",
   "language": "python",
   "name": "python3"
  },
  "language_info": {
   "codemirror_mode": {
    "name": "ipython",
    "version": 3
   },
   "file_extension": ".py",
   "mimetype": "text/x-python",
   "name": "python",
   "nbconvert_exporter": "python",
   "pygments_lexer": "ipython3",
   "version": "3.8.8"
  }
 },
 "nbformat": 4,
 "nbformat_minor": 5
}
